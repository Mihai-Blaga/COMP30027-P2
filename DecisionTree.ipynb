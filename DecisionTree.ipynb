{
 "metadata": {
  "language_info": {
   "codemirror_mode": {
    "name": "ipython",
    "version": 3
   },
   "file_extension": ".py",
   "mimetype": "text/x-python",
   "name": "python",
   "nbconvert_exporter": "python",
   "pygments_lexer": "ipython3",
   "version": "3.8.5"
  },
  "orig_nbformat": 2,
  "kernelspec": {
   "name": "python385jvsc74a57bd0db1e82c7aa95844e45fbbbbcd794a7c1e0efcba29fed4bfa108b76bffa77ce80",
   "display_name": "Python 3.8.5 64-bit ('3.8.5': pyenv)"
  }
 },
 "nbformat": 4,
 "nbformat_minor": 2,
 "cells": [
  {
   "cell_type": "code",
   "execution_count": null,
   "metadata": {},
   "outputs": [],
   "source": [
    "from read_data import get_training, get_test, get_Doc2Vec, get_sparse\n",
    "from processing import combine_with_vec, exclude_non_numeric\n",
    "import pandas as pd\n",
    "import numpy as np\n",
    "from sklearn.pipeline import make_pipeline\n",
    "from sklearn.preprocessing import StandardScaler, FunctionTransformer\n",
    "from sklearn.model_selection import train_test_split, cross_val_score, ShuffleSplit\n",
    "from sklearn.compose import make_column_transformer\n",
    "from sklearn.tree import DecisionTreeClassifier\n",
    "from sklearn.ensemble import RandomForestClassifier\n",
    "import lightgbm as lgb\n",
    "import xgboost as xgb\n",
    "import pickle\n",
    "from scipy.sparse import csr_matrix\n",
    "import scipy\n",
    "np.random.seed(30027)"
   ]
  },
  {
   "cell_type": "code",
   "execution_count": null,
   "metadata": {},
   "outputs": [],
   "source": [
    "X,y = get_training()\n",
    "train_name_vec50, train_ingr_vec50, train_steps_vec50 = get_Doc2Vec(data=\"train\", num_features=50)\n",
    "train_name_vec100, train_ingr_vec100, train_steps_vec100 = get_Doc2Vec(data=\"train\", num_features=100)"
   ]
  },
  {
   "source": [
    "### Doc2Vec preparation"
   ],
   "cell_type": "markdown",
   "metadata": {}
  },
  {
   "cell_type": "code",
   "execution_count": null,
   "metadata": {},
   "outputs": [],
   "source": [
    "# Combine Doc2Vec with 50 features and non-numeric train data\n",
    "temp_X = X.copy()\n",
    "temp_X = exclude_non_numeric(temp_X)\n",
    "temp_train_name_vec50 = train_name_vec50.copy()\n",
    "temp_train_ingr_vec50 = train_ingr_vec50.copy()\n",
    "temp_train_steps_vec50 = train_steps_vec50.copy()\n",
    "X_combined_50: pd.DataFrame = combine_with_vec(temp_X, temp_train_name_vec50, temp_train_ingr_vec50, temp_train_steps_vec50)"
   ]
  },
  {
   "cell_type": "code",
   "execution_count": null,
   "metadata": {},
   "outputs": [],
   "source": [
    "X_train_50, X_test_50, y_train_50, y_test_50 = train_test_split(X_combined_50, (y - 1).astype(int), test_size=0.2)"
   ]
  },
  {
   "cell_type": "code",
   "execution_count": null,
   "metadata": {},
   "outputs": [],
   "source": [
    "# Combine Doc2Vec with 50 features and non-numeric train data\n",
    "temp_X = X.copy()\n",
    "temp_X = exclude_non_numeric(temp_X)\n",
    "temp_train_name_vec100 = train_name_vec100.copy()\n",
    "temp_train_ingr_vec100 = train_ingr_vec100.copy()\n",
    "temp_train_steps_vec100 = train_steps_vec100.copy()\n",
    "X_combined_100: pd.DataFrame = combine_with_vec(temp_X, temp_train_name_vec100, temp_train_ingr_vec100, temp_train_steps_vec100)"
   ]
  },
  {
   "cell_type": "code",
   "execution_count": null,
   "metadata": {},
   "outputs": [],
   "source": [
    "X_train_100, X_test_100, y_train_100, y_test_100 = train_test_split(X_combined_100, (y - 1).astype(int), test_size=0.2)"
   ]
  },
  {
   "source": [
    "### Sprase matrix preparation"
   ],
   "cell_type": "markdown",
   "metadata": {}
  },
  {
   "cell_type": "code",
   "execution_count": null,
   "metadata": {},
   "outputs": [],
   "source": [
    "X_numeric_sparse = csr_matrix(FunctionTransformer(np.log1p).fit_transform(exclude_non_numeric(X)))"
   ]
  },
  {
   "cell_type": "code",
   "execution_count": null,
   "metadata": {},
   "outputs": [],
   "source": [
    "train_name_vec, train_ingr_vec, train_steps_vec = get_sparse(data=\"train\")\n",
    "train_sparse = scipy.sparse.hstack((X_numeric_sparse, train_name_vec, train_ingr_vec, train_steps_vec), format=\"csr\")"
   ]
  },
  {
   "cell_type": "code",
   "execution_count": null,
   "metadata": {},
   "outputs": [],
   "source": [
    "X_train_csr, X_test_csr, y_train_csr, y_test_csr = train_test_split(train_sparse, (y - 1).astype(int), test_size=0.2)"
   ]
  },
  {
   "source": [
    "## Decision Tree pipelines"
   ],
   "cell_type": "markdown",
   "metadata": {}
  },
  {
   "cell_type": "code",
   "execution_count": null,
   "metadata": {},
   "outputs": [],
   "source": [
    "DecisionTree_pipeline = make_pipeline(\n",
    "        make_column_transformer((FunctionTransformer(np.log1p), [\"n_ingredients\", \"n_steps\"]), remainder='passthrough'),\n",
    "    StandardScaler(),\n",
    "    DecisionTreeClassifier()\n",
    ")"
   ]
  },
  {
   "cell_type": "code",
   "execution_count": null,
   "metadata": {},
   "outputs": [],
   "source": [
    "LGBM_pipeline = make_pipeline(\n",
    "    make_column_transformer((FunctionTransformer(np.log1p), [\"n_ingredients\", \"n_steps\"]), remainder='passthrough'),\n",
    "    StandardScaler(),\n",
    "    lgb.LGBMClassifier())"
   ]
  },
  {
   "cell_type": "code",
   "execution_count": null,
   "metadata": {},
   "outputs": [],
   "source": [
    "XGB_pipeline = make_pipeline(\n",
    "    make_column_transformer((FunctionTransformer(np.log1p), [\"n_ingredients\", \"n_steps\"]), remainder='passthrough'),\n",
    "    StandardScaler(),\n",
    "    xgb.XGBClassifier(use_label_encoder=False)\n",
    ")"
   ]
  },
  {
   "cell_type": "code",
   "execution_count": null,
   "metadata": {},
   "outputs": [],
   "source": [
    "RandomForest_pipeline = make_pipeline(\n",
    "    make_column_transformer((FunctionTransformer(np.log1p), [\"n_ingredients\", \"n_steps\"]), remainder='passthrough'),\n",
    "    StandardScaler(),\n",
    "    RandomForestClassifier()\n",
    ")"
   ]
  },
  {
   "source": [
    "### Sparse matrix pipeline"
   ],
   "cell_type": "markdown",
   "metadata": {}
  },
  {
   "cell_type": "code",
   "execution_count": null,
   "metadata": {},
   "outputs": [],
   "source": [
    "DecisionTree_sparse_pipeline = make_pipeline(\n",
    "    StandardScaler(with_mean=False),\n",
    "    DecisionTreeClassifier()\n",
    ")"
   ]
  },
  {
   "cell_type": "code",
   "execution_count": null,
   "metadata": {},
   "outputs": [],
   "source": [
    "LGBM_sparse_pipeline = make_pipeline(\n",
    "    StandardScaler(with_mean=False),\n",
    "    lgb.LGBMClassifier()\n",
    ")"
   ]
  },
  {
   "cell_type": "code",
   "execution_count": null,
   "metadata": {},
   "outputs": [],
   "source": [
    "XGB_sparse_pipeline = make_pipeline(\n",
    "    StandardScaler(with_mean=False),\n",
    "    xgb.XGBClassifier(use_label_encoder=False)\n",
    ")"
   ]
  },
  {
   "cell_type": "code",
   "execution_count": null,
   "metadata": {},
   "outputs": [],
   "source": [
    "RandomForest_sparse_pipeline = make_pipeline(\n",
    "    StandardScaler(with_mean=False),\n",
    "    RandomForestClassifier()\n",
    ")"
   ]
  },
  {
   "source": [
    "## Decision Tree with 50 Doc2Vec feature\n",
    "Very basic tree"
   ],
   "cell_type": "markdown",
   "metadata": {}
  },
  {
   "cell_type": "code",
   "execution_count": null,
   "metadata": {},
   "outputs": [],
   "source": [
    "%%time\n",
    "partial_DecisionTree_50Doc2Vec_model = DecisionTree_pipeline.fit(X_train_50, y_train_50)"
   ]
  },
  {
   "cell_type": "code",
   "execution_count": null,
   "metadata": {},
   "outputs": [],
   "source": [
    "cross_val_score(DecisionTree_pipeline, X_test_50, y_test_50, cv=ShuffleSplit(n_splits=5, test_size=0.2))"
   ]
  },
  {
   "cell_type": "code",
   "execution_count": null,
   "metadata": {},
   "outputs": [],
   "source": [
    "partial_DecisionTree_50Doc2Vec_model.score(X_test_50, y_test_50)"
   ]
  },
  {
   "source": [
    "## LighGBM with 50 Doc2Vec features "
   ],
   "cell_type": "markdown",
   "metadata": {}
  },
  {
   "source": [
    "%%time\n",
    "partial_LGBM_50Doc2Vec_model = LGBM_pipeline.fit(X_train_50, y_train_50)"
   ],
   "cell_type": "code",
   "metadata": {},
   "execution_count": null,
   "outputs": []
  },
  {
   "cell_type": "code",
   "execution_count": null,
   "metadata": {},
   "outputs": [],
   "source": [
    "cross_val_score(LGBM_pipeline, X_test_50, y_test_50, cv=ShuffleSplit(n_splits=5, test_size=0.2))"
   ]
  },
  {
   "cell_type": "code",
   "execution_count": null,
   "metadata": {},
   "outputs": [],
   "source": [
    "partial_LGBM_50Doc2Vec_model.score(X_test_50, y_test_50)\n",
    "# -> 0.73"
   ]
  },
  {
   "cell_type": "code",
   "execution_count": null,
   "metadata": {},
   "outputs": [],
   "source": [
    "%%time\n",
    "LGBM_50Doc2Vec_model = LGBM_pipeline.fit(X_combined_50, (y - 1).astype(int))"
   ]
  },
  {
   "cell_type": "code",
   "execution_count": null,
   "metadata": {},
   "outputs": [],
   "source": [
    "pickle.dump(LGBM_50Doc2Vec_model, open(\"models/LightGBM-50Doc2Vec.sav\", \"wb\"))"
   ]
  },
  {
   "source": [
    "## LightGBM with 100 Doc2Vec features"
   ],
   "cell_type": "markdown",
   "metadata": {}
  },
  {
   "cell_type": "code",
   "execution_count": null,
   "metadata": {},
   "outputs": [],
   "source": [
    "%%time\n",
    "partial_LGBM_100Doc2Vec_model = LGBM_pipeline.fit(X_train_100, y_train_100)"
   ]
  },
  {
   "cell_type": "code",
   "execution_count": null,
   "metadata": {},
   "outputs": [],
   "source": [
    "cross_val_score(LGBM_pipeline, X_test_100, y_test_100, cv=ShuffleSplit(n_splits=5, test_size=0.2))"
   ]
  },
  {
   "cell_type": "code",
   "execution_count": null,
   "metadata": {},
   "outputs": [],
   "source": [
    "partial_LGBM_100Doc2Vec_model.score(X_test_100, y_test_100)\n",
    "# -> 0.7135"
   ]
  },
  {
   "cell_type": "code",
   "execution_count": null,
   "metadata": {},
   "outputs": [],
   "source": [
    "%%time\n",
    "LGBM_100Doc2Vec_model = LGBM_pipeline.fit(X_combined_100, (y - 1).astype(int))"
   ]
  },
  {
   "cell_type": "code",
   "execution_count": null,
   "metadata": {},
   "outputs": [],
   "source": [
    "pickle.dump(LGBM_100Doc2Vec_model, open(\"models/LightGBM-100Doc2Vec.sav\", \"wb\"))"
   ]
  },
  {
   "source": [
    "## XGBoost with 50 Doc2Vec features"
   ],
   "cell_type": "markdown",
   "metadata": {}
  },
  {
   "cell_type": "code",
   "execution_count": null,
   "metadata": {},
   "outputs": [],
   "source": [
    "%%time\n",
    "partial_XGB_50Doc2Vec_model = XGB_pipeline.fit(X_train_50, y_train_50)"
   ]
  },
  {
   "cell_type": "code",
   "execution_count": null,
   "metadata": {},
   "outputs": [],
   "source": [
    "cross_val_score(XGB_pipeline, X_test_50, y_test_50, cv=ShuffleSplit(n_splits=5, test_size=0.2))"
   ]
  },
  {
   "cell_type": "code",
   "execution_count": null,
   "metadata": {},
   "outputs": [],
   "source": [
    "partial_XGB_50Doc2Vec_model.score(X_test_50, y_test_50)\n",
    "# -> 0.727625"
   ]
  },
  {
   "cell_type": "code",
   "execution_count": null,
   "metadata": {},
   "outputs": [],
   "source": [
    "XGB_50Doc2Vec_model = XGB_pipeline.fit(X_combined_50, (y-1).astype(int))"
   ]
  },
  {
   "cell_type": "code",
   "execution_count": null,
   "metadata": {},
   "outputs": [],
   "source": [
    "pickle.dump(XGB_50Doc2Vec_model, open(\"models/XGBoost-50Doc2Vec.sav\", \"wb\"))"
   ]
  },
  {
   "source": [
    "## RandomForestClassifier with 50 Doc2Vec features"
   ],
   "cell_type": "markdown",
   "metadata": {}
  },
  {
   "cell_type": "code",
   "execution_count": null,
   "metadata": {},
   "outputs": [],
   "source": [
    "%%time\n",
    "partial_RandomForest_50Doc2Vec_model = RandomForest_pipeline.fit(X_train_50, y_train_50)"
   ]
  },
  {
   "cell_type": "code",
   "execution_count": null,
   "metadata": {},
   "outputs": [],
   "source": [
    "cross_val_score(RandomForest_pipeline, X_test_100, y_test_100, cv=ShuffleSplit(n_splits=5, test_size=0.2))"
   ]
  },
  {
   "cell_type": "code",
   "execution_count": null,
   "metadata": {},
   "outputs": [],
   "source": [
    "partial_RandomForest_50Doc2Vec_model.score(X_test_50, y_test_50)"
   ]
  },
  {
   "cell_type": "code",
   "execution_count": null,
   "metadata": {},
   "outputs": [],
   "source": [
    "%%time\n",
    "RandomForest_50Doc2Vec_model = RandomForest_pipeline.fit(X_combined_50, (y-1).astype(int))"
   ]
  },
  {
   "cell_type": "code",
   "execution_count": null,
   "metadata": {},
   "outputs": [],
   "source": [
    "pickle.dump(RandomForest_50Doc2Vec_model, open(\"models/RandomForest-50Doc2Vec.sav\", \"wb\"))"
   ]
  },
  {
   "source": [
    "## DecisionTree with Sprase matrix"
   ],
   "cell_type": "markdown",
   "metadata": {}
  },
  {
   "cell_type": "code",
   "execution_count": null,
   "metadata": {},
   "outputs": [],
   "source": [
    "%%time\n",
    "partial_DecisionTree_sparse_model = DecisionTree_sparse_pipeline.fit(X_train_csr, y_train_csr)"
   ]
  },
  {
   "cell_type": "code",
   "execution_count": null,
   "metadata": {},
   "outputs": [],
   "source": [
    "cross_val_score(partial_DecisionTree_sparse_model, X_test_csr, y_test_csr, cv=ShuffleSplit(n_splits=5, test_size=0.2))"
   ]
  },
  {
   "cell_type": "code",
   "execution_count": null,
   "metadata": {},
   "outputs": [],
   "source": [
    "partial_DecisionTree_sparse_model.score(X_test_csr, y_test_csr)"
   ]
  },
  {
   "source": [
    "## LightGBM with sparse matrix"
   ],
   "cell_type": "markdown",
   "metadata": {}
  },
  {
   "cell_type": "code",
   "execution_count": null,
   "metadata": {},
   "outputs": [],
   "source": [
    "%%time\n",
    "partial_LGBM_sparse_model = LGBM_sparse_pipeline.fit(X_train_csr, y_train_csr)"
   ]
  },
  {
   "cell_type": "code",
   "execution_count": null,
   "metadata": {},
   "outputs": [],
   "source": [
    "cross_val_score(partial_LGBM_sparse_model, X_test_csr, y_test_csr, cv=ShuffleSplit(n_splits=5, test_size=0.2))"
   ]
  },
  {
   "cell_type": "code",
   "execution_count": null,
   "metadata": {},
   "outputs": [],
   "source": [
    "partial_LGBM_sparse_model.score(X_test_csr, y_test_csr)"
   ]
  },
  {
   "cell_type": "code",
   "execution_count": null,
   "metadata": {},
   "outputs": [],
   "source": [
    "LGBM_sparse_model = LGBM_sparse_pipeline.fit(train_sparse, (y-1).astype(int))"
   ]
  },
  {
   "cell_type": "code",
   "execution_count": null,
   "metadata": {},
   "outputs": [],
   "source": [
    "pickle.dump(LGBM_sparse_model, open(\"models/LightGBM-sparse.sav\", \"wb\"))"
   ]
  },
  {
   "source": [
    "## XGBoost with sparse matrix"
   ],
   "cell_type": "markdown",
   "metadata": {}
  },
  {
   "cell_type": "code",
   "execution_count": null,
   "metadata": {},
   "outputs": [],
   "source": [
    "%%%time\n",
    "partial_XGB_sprase_model = XGB_sparse_pipeline.fit(X_train_csr, y_train_csr)"
   ]
  },
  {
   "cell_type": "code",
   "execution_count": null,
   "metadata": {},
   "outputs": [],
   "source": [
    "cross_val_score(partial_XGB_sprase_model, X_test_csr, y_test_csr, cv=ShuffleSplit(n_splits=5, test_size=0.2))"
   ]
  },
  {
   "cell_type": "code",
   "execution_count": null,
   "metadata": {},
   "outputs": [],
   "source": [
    "partial_XGB_sprase_model.score(X_test_csr, y_test_csr)"
   ]
  },
  {
   "source": [
    "## RandomForest with sparse matrix"
   ],
   "cell_type": "markdown",
   "metadata": {}
  },
  {
   "cell_type": "code",
   "execution_count": null,
   "metadata": {},
   "outputs": [],
   "source": [
    "%%time\n",
    "partial_RandomForest_sparse_model = RandomForest_sparse_pipeline.fit(X_train_csr, y_train_csr)"
   ]
  },
  {
   "cell_type": "code",
   "execution_count": null,
   "metadata": {},
   "outputs": [],
   "source": [
    "cross_val_score(partial_RandomForest_sparse_model, X_test_csr, y_test_csr, cv=ShuffleSplit(n_splits=5, test_size=0.2))"
   ]
  },
  {
   "cell_type": "code",
   "execution_count": null,
   "metadata": {},
   "outputs": [],
   "source": [
    "partial_RandomForest_sparse_model.score(X_test_csr, y_test_csr)"
   ]
  },
  {
   "cell_type": "code",
   "execution_count": null,
   "metadata": {},
   "outputs": [],
   "source": []
  }
 ]
}