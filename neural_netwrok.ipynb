{
 "cells": [
  {
   "cell_type": "code",
   "execution_count": 2,
   "metadata": {},
   "outputs": [],
   "source": [
    "from read_data import get_training, get_test, get_Doc2Vec, get_data\n",
    "from processing import combine_with_vec, exclude_non_numeric\n",
    "import pandas as pd\n",
    "import numpy as np\n",
    "from sklearn.pipeline import make_pipeline\n",
    "from sklearn.preprocessing import StandardScaler, FunctionTransformer\n",
    "from sklearn.compose import make_column_transformer\n",
    "from sklearn.model_selection import train_test_split, cross_val_score, ShuffleSplit\n",
    "from sklearn.neural_network import MLPClassifier\n",
    "np.random.seed(30027)"
   ]
  },
  {
   "cell_type": "code",
   "execution_count": 3,
   "metadata": {},
   "outputs": [],
   "source": [
    "# Training data\n",
    "X, y = get_training()\n",
    "train_name_vec50, train_ingr_vec50, train_steps_vec50 = get_Doc2Vec(data=\"train\", num_features=50)\n",
    "train_name_vec100, train_ingr_vec100, train_steps_vec100 = get_Doc2Vec(data=\"train\", num_features=100)"
   ]
  },
  {
   "cell_type": "code",
   "execution_count": 4,
   "metadata": {},
   "outputs": [],
   "source": [
    "# Combine Doc2Vec with 50 features and non-numeric train data\n",
    "temp_X = X.copy()\n",
    "temp_X = exclude_non_numeric(temp_X)\n",
    "temp_train_name_vec50 = train_name_vec50.copy()\n",
    "temp_train_ingr_vec50 = train_ingr_vec50.copy()\n",
    "temp_train_steps_vec50 = train_steps_vec50.copy()\n",
    "X_combined_50: pd.DataFrame = combine_with_vec(temp_X, temp_train_name_vec50, temp_train_ingr_vec50, temp_train_steps_vec50)"
   ]
  },
  {
   "cell_type": "code",
   "execution_count": 5,
   "metadata": {},
   "outputs": [],
   "source": [
    "X_train_50, X_test_50, y_train_50, y_test_50 = train_test_split(X_combined_50, y, test_size=0.2)"
   ]
  },
  {
   "cell_type": "code",
   "execution_count": 6,
   "metadata": {},
   "outputs": [],
   "source": [
    "# Combine Doc2Vec with 50 features and non-numeric train data\n",
    "temp_X = X.copy()\n",
    "temp_X = exclude_non_numeric(temp_X)\n",
    "temp_train_name_vec100 = train_name_vec100.copy()\n",
    "temp_train_ingr_vec100 = train_ingr_vec100.copy()\n",
    "temp_train_steps_vec100 = train_steps_vec100.copy()\n",
    "X_combined_100: pd.DataFrame = combine_with_vec(temp_X, temp_train_name_vec100, temp_train_ingr_vec100, temp_train_steps_vec100)"
   ]
  },
  {
   "cell_type": "code",
   "execution_count": 7,
   "metadata": {},
   "outputs": [],
   "source": [
    "X_train_100, X_test_100, y_train_100, y_test_100 = train_test_split(X_combined_100, y, test_size=0.2)"
   ]
  },
  {
   "cell_type": "markdown",
   "metadata": {},
   "source": [
    "## Neural Network model pipelines"
   ]
  },
  {
   "cell_type": "code",
   "execution_count": 8,
   "metadata": {},
   "outputs": [],
   "source": [
    "MLP_pipeline = make_pipeline(\n",
    "    make_column_transformer((FunctionTransformer(np.log1p), [\"n_ingredients\", \"n_steps\"]), remainder='passthrough'),\n",
    "    StandardScaler(),\n",
    "    MLPClassifier(solver='adam', alpha=1e-5, hidden_layer_sizes = (27))\n",
    ")"
   ]
  },
  {
   "cell_type": "markdown",
   "metadata": {},
   "source": [
    "## MLP with 50 Doc2Vec features"
   ]
  },
  {
   "cell_type": "code",
   "execution_count": 9,
   "metadata": {},
   "outputs": [
    {
     "output_type": "stream",
     "name": "stdout",
     "text": [
      "Wall time: 2min 3s\n",
      "C:\\Users\\mihai\\AppData\\Local\\Programs\\Python\\Python38-32\\Lib\\site-packages\\sklearn\\neural_network\\_multilayer_perceptron.py:614: ConvergenceWarning: Stochastic Optimizer: Maximum iterations (200) reached and the optimization hasn't converged yet.\n",
      "  warnings.warn(\n"
     ]
    }
   ],
   "source": [
    "%%time\n",
    "partial_MLP_model = MLP_pipeline.fit(X_train_50, y_train_50)"
   ]
  },
  {
   "cell_type": "code",
   "execution_count": 10,
   "metadata": {},
   "outputs": [
    {
     "output_type": "stream",
     "name": "stderr",
     "text": [
      "C:\\Users\\mihai\\AppData\\Local\\Programs\\Python\\Python38-32\\Lib\\site-packages\\sklearn\\neural_network\\_multilayer_perceptron.py:614: ConvergenceWarning: Stochastic Optimizer: Maximum iterations (200) reached and the optimization hasn't converged yet.\n",
      "  warnings.warn(\n",
      "C:\\Users\\mihai\\AppData\\Local\\Programs\\Python\\Python38-32\\Lib\\site-packages\\sklearn\\neural_network\\_multilayer_perceptron.py:614: ConvergenceWarning: Stochastic Optimizer: Maximum iterations (200) reached and the optimization hasn't converged yet.\n",
      "  warnings.warn(\n",
      "C:\\Users\\mihai\\AppData\\Local\\Programs\\Python\\Python38-32\\Lib\\site-packages\\sklearn\\neural_network\\_multilayer_perceptron.py:614: ConvergenceWarning: Stochastic Optimizer: Maximum iterations (200) reached and the optimization hasn't converged yet.\n",
      "  warnings.warn(\n",
      "C:\\Users\\mihai\\AppData\\Local\\Programs\\Python\\Python38-32\\Lib\\site-packages\\sklearn\\neural_network\\_multilayer_perceptron.py:614: ConvergenceWarning: Stochastic Optimizer: Maximum iterations (200) reached and the optimization hasn't converged yet.\n",
      "  warnings.warn(\n",
      "C:\\Users\\mihai\\AppData\\Local\\Programs\\Python\\Python38-32\\Lib\\site-packages\\sklearn\\neural_network\\_multilayer_perceptron.py:614: ConvergenceWarning: Stochastic Optimizer: Maximum iterations (200) reached and the optimization hasn't converged yet.\n",
      "  warnings.warn(\n"
     ]
    },
    {
     "output_type": "execute_result",
     "data": {
      "text/plain": [
       "array([0.663125, 0.6575  , 0.646875, 0.631875, 0.644375])"
      ]
     },
     "metadata": {},
     "execution_count": 10
    }
   ],
   "source": [
    "cross_val_score(MLP_pipeline, X_test_50, y_test_50, cv=ShuffleSplit(n_splits=5, test_size=0.2))"
   ]
  },
  {
   "cell_type": "code",
   "execution_count": 11,
   "metadata": {},
   "outputs": [
    {
     "output_type": "execute_result",
     "data": {
      "text/plain": [
       "0.707625"
      ]
     },
     "metadata": {},
     "execution_count": 11
    }
   ],
   "source": [
    "partial_MLP_model.score(X_test_50, y_test_50)"
   ]
  },
  {
   "cell_type": "code",
   "execution_count": null,
   "metadata": {},
   "outputs": [],
   "source": []
  }
 ],
 "metadata": {
  "kernelspec": {
   "name": "python382jvsc74a57bd093861e993bc647e90e5e9bd3353ecaf3d7bebc109bc4c78b5428fd668748908c",
   "display_name": "Python 3.8.2 32-bit"
  },
  "language_info": {
   "codemirror_mode": {
    "name": "ipython",
    "version": 3
   },
   "file_extension": ".py",
   "mimetype": "text/x-python",
   "name": "python",
   "nbconvert_exporter": "python",
   "pygments_lexer": "ipython3",
   "version": "3.8.2"
  }
 },
 "nbformat": 4,
 "nbformat_minor": 2
}