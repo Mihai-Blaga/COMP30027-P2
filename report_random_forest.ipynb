{
 "metadata": {
  "language_info": {
   "codemirror_mode": {
    "name": "ipython",
    "version": 3
   },
   "file_extension": ".py",
   "mimetype": "text/x-python",
   "name": "python",
   "nbconvert_exporter": "python",
   "pygments_lexer": "ipython3",
   "version": "3.8.5"
  },
  "orig_nbformat": 2,
  "kernelspec": {
   "name": "python385jvsc74a57bd0db1e82c7aa95844e45fbbbbcd794a7c1e0efcba29fed4bfa108b76bffa77ce80",
   "display_name": "Python 3.8.5 64-bit ('3.8.5': pyenv)"
  }
 },
 "nbformat": 4,
 "nbformat_minor": 2,
 "cells": [
  {
   "cell_type": "code",
   "execution_count": null,
   "metadata": {},
   "outputs": [],
   "source": [
    "from read_data import get_training, get_test, get_sparse\n",
    "from processing import exclude_non_numeric\n",
    "from utils import create_csv_output\n",
    "import numpy as np\n",
    "import pandas as pd\n",
    "import scipy\n",
    "import pickle\n",
    "from scipy.sparse import csr_matrix\n",
    "from sklearn.pipeline import make_pipeline\n",
    "from sklearn.preprocessing import StandardScaler, FunctionTransformer\n",
    "from sklearn.model_selection import train_test_split, cross_val_score, ShuffleSplit, StratifiedShuffleSplit\n",
    "import seaborn as sns\n",
    "import matplotlib.pyplot as plt\n",
    "from sklearn.metrics import confusion_matrix\n",
    "np.random.seed(30027)\n",
    "sns.set(rc={\"figure.facecolor\": \"white\"})"
   ]
  },
  {
   "cell_type": "code",
   "execution_count": null,
   "metadata": {},
   "outputs": [],
   "source": [
    "from sklearn.ensemble import RandomForestClassifier\n",
    "from lightgbm import LGBMClassifier"
   ]
  },
  {
   "source": [
    "## Train data"
   ],
   "cell_type": "markdown",
   "metadata": {}
  },
  {
   "cell_type": "code",
   "execution_count": null,
   "metadata": {},
   "outputs": [],
   "source": [
    "train_X,train_y = get_training()\n",
    "train_X_numeric = csr_matrix(FunctionTransformer(np.log1p).fit_transform(exclude_non_numeric(train_X)))\n",
    "train_name, train_ingr, train_steps = get_sparse(data=\"train\")\n",
    "train_sparse = scipy.sparse.hstack((train_X_numeric, train_name, train_ingr, train_steps), format=\"csr\")"
   ]
  },
  {
   "cell_type": "code",
   "execution_count": null,
   "metadata": {},
   "outputs": [],
   "source": [
    "# Change target from (1.0, 2.0, 3.0) -> (0, 1, 2)\n",
    "y = (train_y - 1).astype(int)\n",
    "X_train, X_test, y_train, y_test = train_test_split(train_sparse, y, test_size=0.2)"
   ]
  },
  {
   "source": [
    "## Test data"
   ],
   "cell_type": "markdown",
   "metadata": {}
  },
  {
   "cell_type": "code",
   "execution_count": null,
   "metadata": {},
   "outputs": [],
   "source": [
    "test_X = get_test()\n",
    "test_X_numeric = csr_matrix(FunctionTransformer(np.log1p).fit_transform(exclude_non_numeric(test_X)))\n",
    "test_name, test_ingr, test_steps = get_sparse(data=\"test\")\n",
    "test_sparse = scipy.sparse.hstack((test_X_numeric, test_name, test_ingr, test_steps), format=\"csr\")"
   ]
  },
  {
   "source": [
    "## RandomForestClassfier"
   ],
   "cell_type": "markdown",
   "metadata": {}
  },
  {
   "cell_type": "code",
   "execution_count": null,
   "metadata": {},
   "outputs": [],
   "source": [
    "rf_pipeline = make_pipeline(\n",
    "    StandardScaler(with_mean=False),\n",
    "    RandomForestClassifier()\n",
    ")"
   ]
  },
  {
   "source": [
    "### Partial Model"
   ],
   "cell_type": "markdown",
   "metadata": {}
  },
  {
   "cell_type": "code",
   "execution_count": null,
   "metadata": {},
   "outputs": [],
   "source": [
    "%%time\n",
    "partial_rf = rf_pipeline.fit(X_train, y_train)\n",
    "pickle.dump(partial_rf, open(\"report_models/partial/rf.sav\", \"wb\"))\n",
    "# CPU times: user 1min 32s, sys: 2.32 s, total: 1min 34s\n",
    "# Wall time: 1min 37s"
   ]
  },
  {
   "cell_type": "code",
   "execution_count": null,
   "metadata": {},
   "outputs": [],
   "source": [
    "cross_val_score(partial_rf, X_test, y_test, cv=StratifiedShuffleSplit(n_splits=5, test_size=0.2))\n",
    "# array([0.76    , 0.7725  , 0.755   , 0.75875 , 0.769375])"
   ]
  },
  {
   "source": [
    "### Analysis"
   ],
   "cell_type": "markdown",
   "metadata": {}
  },
  {
   "cell_type": "code",
   "execution_count": null,
   "metadata": {},
   "outputs": [],
   "source": [
    "rf_score = partial_rf.score(X_test, y_test)\n",
    "rf_pred = partial_rf.predict(X_test)\n",
    "rf_cm = confusion_matrix(y_test, rf_pred, normalize='true')"
   ]
  },
  {
   "cell_type": "code",
   "execution_count": null,
   "metadata": {},
   "outputs": [],
   "source": [
    "rf_cm"
   ]
  },
  {
   "cell_type": "code",
   "execution_count": null,
   "metadata": {},
   "outputs": [],
   "source": [
    "plt.figure(figsize=(5, 5))\n",
    "sns.heatmap(rf_cm, annot=True, square=True, xticklabels=[1.0, 2.0, 3.0], yticklabels=[1.0, 2.0, 3.0], cmap=\"Blues_r\")\n",
    "plt.ylabel('Actual label')\n",
    "plt.xlabel('Predicted label' + '\\n\\nAccuracy Score: {0}'.format(rf_score))\n",
    "plt.title('RandomForestClassifier Confusion Matrix', size=13)\n",
    "plt.savefig(\"report_pics/RandomForest/rf_cm.png\")"
   ]
  },
  {
   "source": [
    "### Submission model"
   ],
   "cell_type": "markdown",
   "metadata": {}
  },
  {
   "cell_type": "code",
   "execution_count": null,
   "metadata": {},
   "outputs": [],
   "source": [
    "%%time\n",
    "rf = rf_pipeline.fit(train_sparse, y)\n",
    "pickle.dump(rf, open(\"report_models/submission/rf.sav\", \"wb\"))\n",
    "# CPU times: user 1min 46s, sys: 2.25 s, total: 1min 48s\n",
    "# Wall time: 1min 51s"
   ]
  },
  {
   "cell_type": "code",
   "execution_count": null,
   "metadata": {},
   "outputs": [],
   "source": [
    "create_csv_output(\"report_submission/rf\", (rf.predict(test_sparse) + 1).astype(float))"
   ]
  },
  {
   "source": [
    "## LightGBM"
   ],
   "cell_type": "markdown",
   "metadata": {}
  },
  {
   "cell_type": "code",
   "execution_count": null,
   "metadata": {},
   "outputs": [],
   "source": [
    "LGBM_pipeline = make_pipeline(\n",
    "    StandardScaler(with_mean=False),\n",
    "    LGBMClassifier()\n",
    ")"
   ]
  },
  {
   "source": [
    "### partial model"
   ],
   "cell_type": "markdown",
   "metadata": {}
  },
  {
   "cell_type": "code",
   "execution_count": null,
   "metadata": {},
   "outputs": [],
   "source": [
    "%%time\n",
    "partial_LGBM = LGBM_pipeline.fit(X_train, y_train)\n",
    "pickle.dump(partial_LGBM, open(\"report_models/partial/LGBM.sav\", \"wb\"))\n",
    "# CPU times: user 1min 4s, sys: 5.96 s, total: 1min 10s\n",
    "# Wall time: 10.1 s"
   ]
  },
  {
   "cell_type": "code",
   "execution_count": null,
   "metadata": {},
   "outputs": [],
   "source": [
    "cross_val_score(partial_LGBM, X_test, y_test, cv=StratifiedShuffleSplit(n_splits=5, test_size=0.2))\n",
    "# array([0.80625 , 0.79125 , 0.795625, 0.795   , 0.800625])"
   ]
  },
  {
   "source": [
    "### Analysis"
   ],
   "cell_type": "markdown",
   "metadata": {}
  },
  {
   "cell_type": "code",
   "execution_count": null,
   "metadata": {},
   "outputs": [],
   "source": [
    "LGBM_score = partial_LGBM.score(X_test, y_test)\n",
    "LGBM_pred = partial_LGBM.predict(X_test)\n",
    "LGBM_cm = confusion_matrix(y_test, LGBM_pred, normalize='true')"
   ]
  },
  {
   "cell_type": "code",
   "execution_count": null,
   "metadata": {},
   "outputs": [],
   "source": [
    "plt.figure(figsize=(5, 5))\n",
    "sns.heatmap(LGBM_cm, annot=True, square=True, xticklabels=[1.0, 2.0, 3.0], yticklabels=[1.0, 2.0, 3.0], cmap=\"Blues_r\")\n",
    "plt.ylabel('Actual label')\n",
    "plt.xlabel('Predicted label' + '\\n\\nAccuracy Score: {0}'.format(LGBM_score))\n",
    "plt.title('RandomForestClassifier Confusion Matrix', size=13)\n",
    "plt.savefig(\"report_pics/RandomForest/LGBM_cm.png\")"
   ]
  },
  {
   "source": [
    "### Submission model"
   ],
   "cell_type": "markdown",
   "metadata": {}
  },
  {
   "cell_type": "code",
   "execution_count": null,
   "metadata": {},
   "outputs": [],
   "source": [
    "%%time\n",
    "LGBM = LGBM_pipeline.fit(train_sparse, y)\n",
    "pickle.dump(LGBM, open(\"report_models/submission/LGBM.sav\", \"wb\"))\n",
    "# CPU times: user 1min 46s, sys: 2.25 s, total: 1min 48s\n",
    "# Wall time: 1min 51s"
   ]
  },
  {
   "cell_type": "code",
   "execution_count": null,
   "metadata": {},
   "outputs": [],
   "source": [
    "create_csv_output(\"report_submission/LGBM\", (LGBM.predict(test_sparse) + 1).astype(float))"
   ]
  },
  {
   "cell_type": "code",
   "execution_count": null,
   "metadata": {},
   "outputs": [],
   "source": []
  }
 ]
}