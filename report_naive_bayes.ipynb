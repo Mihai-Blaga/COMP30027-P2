{
 "metadata": {
  "language_info": {
   "codemirror_mode": {
    "name": "ipython",
    "version": 3
   },
   "file_extension": ".py",
   "mimetype": "text/x-python",
   "name": "python",
   "nbconvert_exporter": "python",
   "pygments_lexer": "ipython3",
   "version": "3.8.5"
  },
  "orig_nbformat": 2,
  "kernelspec": {
   "name": "python385jvsc74a57bd0db1e82c7aa95844e45fbbbbcd794a7c1e0efcba29fed4bfa108b76bffa77ce80",
   "display_name": "Python 3.8.5 64-bit ('3.8.5': pyenv)"
  }
 },
 "nbformat": 4,
 "nbformat_minor": 2,
 "cells": [
  {
   "cell_type": "code",
   "execution_count": null,
   "metadata": {},
   "outputs": [],
   "source": [
    "from read_data import get_training, get_test, get_sparse\n",
    "from processing import exclude_non_numeric\n",
    "from utils import create_csv_output\n",
    "import numpy as np\n",
    "import pandas as pd\n",
    "import scipy\n",
    "import pickle\n",
    "from scipy.sparse import csr_matrix\n",
    "from sklearn.pipeline import make_pipeline\n",
    "from sklearn.preprocessing import FunctionTransformer\n",
    "from sklearn.model_selection import train_test_split, cross_val_score, ShuffleSplit, StratifiedShuffleSplit\n",
    "import seaborn as sns\n",
    "import matplotlib.pyplot as plt\n",
    "from sklearn.metrics import confusion_matrix\n",
    "np.random.seed(30027)\n",
    "sns.set(rc={\"figure.facecolor\": \"white\"})"
   ]
  },
  {
   "cell_type": "code",
   "execution_count": null,
   "metadata": {},
   "outputs": [],
   "source": [
    "from sklearn.naive_bayes import GaussianNB, ComplementNB"
   ]
  },
  {
   "source": [
    "## Train data"
   ],
   "cell_type": "markdown",
   "metadata": {}
  },
  {
   "cell_type": "code",
   "execution_count": null,
   "metadata": {},
   "outputs": [],
   "source": [
    "train_X,train_y = get_training()\n",
    "train_X_numeric = csr_matrix(FunctionTransformer(np.log1p).fit_transform(exclude_non_numeric(train_X)))\n",
    "train_name, train_ingr, train_steps = get_sparse(data=\"train\")\n",
    "train_sparse = scipy.sparse.hstack((train_X_numeric, train_name, train_ingr, train_steps), format=\"csr\")"
   ]
  },
  {
   "cell_type": "code",
   "execution_count": null,
   "metadata": {},
   "outputs": [],
   "source": [
    "# Change target from (1.0, 2.0, 3.0) -> (0, 1, 2)\n",
    "y = (train_y - 1).astype(int)\n",
    "X_train, X_test, y_train, y_test = train_test_split(train_sparse, y, test_size=0.2)"
   ]
  },
  {
   "source": [
    "## Test data"
   ],
   "cell_type": "markdown",
   "metadata": {}
  },
  {
   "cell_type": "code",
   "execution_count": null,
   "metadata": {},
   "outputs": [],
   "source": [
    "test_X = get_test()\n",
    "test_X_numeric = csr_matrix(FunctionTransformer(np.log1p).fit_transform(exclude_non_numeric(test_X)))\n",
    "test_name, test_ingr, test_steps = get_sparse(data=\"test\")\n",
    "test_sparse = scipy.sparse.hstack((test_X_numeric, test_name, test_ingr, test_steps), format=\"csr\")"
   ]
  },
  {
   "source": [
    "## ComplementNB"
   ],
   "cell_type": "markdown",
   "metadata": {}
  },
  {
   "cell_type": "code",
   "execution_count": null,
   "metadata": {},
   "outputs": [],
   "source": [
    "%%time\n",
    "partial_CNB = ComplementNB().fit(X_train, y_train)\n",
    "pickle.dump(partial_CNB, open(\"report_models/partial/CNB.sav\", \"wb\"))\n",
    "# CPU times: user 20.3 ms, sys: 3.07 ms, total: 23.4 ms\n",
    "# Wall time: 22.1 ms\n"
   ]
  },
  {
   "cell_type": "code",
   "execution_count": null,
   "metadata": {},
   "outputs": [],
   "source": [
    "cross_val_score(partial_CNB, X_test, y_test, cv=StratifiedShuffleSplit(n_splits=5, test_size=0.2))\n",
    "# array([0.724375, 0.7325  , 0.76625 , 0.729375, 0.716875])"
   ]
  },
  {
   "source": [
    "### Analysis"
   ],
   "cell_type": "markdown",
   "metadata": {}
  },
  {
   "cell_type": "code",
   "execution_count": null,
   "metadata": {},
   "outputs": [],
   "source": [
    "CNB_score = partial_CNB.score(X_test, y_test)\n",
    "CNB_pred = partial_CNB.predict(X_test)\n",
    "CNB_cm = confusion_matrix(y_test, CNB_pred, normalize='true')"
   ]
  },
  {
   "cell_type": "code",
   "execution_count": null,
   "metadata": {},
   "outputs": [],
   "source": [
    "plt.figure(figsize=(5, 5))\n",
    "sns.heatmap(CNB_cm, annot=True, square=True, xticklabels=[1.0, 2.0, 3.0], yticklabels=[1.0, 2.0, 3.0], cmap=\"Blues_r\")\n",
    "plt.ylabel('Actual label')\n",
    "plt.xlabel('Predicted label' + '\\n\\nAccuracy Score: {0}'.format(CNB_score))\n",
    "plt.title('ComplementNB Confusion Matrix', size=13)\n",
    "plt.savefig(\"report_pics/NaiveBayes/CNB_cm.png\")"
   ]
  },
  {
   "source": [
    "### Submission model"
   ],
   "cell_type": "markdown",
   "metadata": {}
  },
  {
   "cell_type": "code",
   "execution_count": null,
   "metadata": {},
   "outputs": [],
   "source": [
    "%%time\n",
    "CNB = ComplementNB().fit(train_sparse, y)\n",
    "pickle.dump(CNB, open(\"report_models/submission/CNB.sav\", \"wb\"))\n",
    "# CPU times: user 1min 46s, sys: 2.25 s, total: 1min 48s\n",
    "# Wall time: 1min 51s"
   ]
  },
  {
   "cell_type": "code",
   "execution_count": null,
   "metadata": {},
   "outputs": [],
   "source": [
    "create_csv_output(\"report_submission/CNB\", (CNB.predict(test_sparse) + 1).astype(float))"
   ]
  },
  {
   "cell_type": "code",
   "execution_count": null,
   "metadata": {},
   "outputs": [],
   "source": []
  }
 ]
}