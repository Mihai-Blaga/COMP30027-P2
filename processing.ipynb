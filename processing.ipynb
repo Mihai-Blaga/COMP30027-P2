{
 "metadata": {
  "language_info": {
   "codemirror_mode": {
    "name": "ipython",
    "version": 3
   },
   "file_extension": ".py",
   "mimetype": "text/x-python",
   "name": "python",
   "nbconvert_exporter": "python",
   "pygments_lexer": "ipython3",
   "version": "3.8.2"
  },
  "orig_nbformat": 2,
  "kernelspec": {
   "name": "python382jvsc74a57bd093861e993bc647e90e5e9bd3353ecaf3d7bebc109bc4c78b5428fd668748908c",
   "display_name": "Python 3.8.2 32-bit"
  }
 },
 "nbformat": 4,
 "nbformat_minor": 2,
 "cells": [
  {
   "cell_type": "code",
   "execution_count": null,
   "metadata": {},
   "outputs": [],
   "source": [
    "import scipy.stats\n",
    "import pandas as pd\n",
    "import numpy as np\n",
    "import matplotlib.pyplot as plt\n",
    "\n",
    "TEST_LOCATION = \"./COMP30027_2021_Project2_datasets/recipe_test.csv\"\n",
    "TRAIN_LOCATION = \"./COMP30027_2021_Project2_datasets/recipe_train.csv\"\n",
    "\n",
    "def preprocess(csv_location: str) -> pd.DataFrame:\n",
    "    # Change 9999 to np.nan when reading in the data\n",
    "    data = pd.read_csv(csv_location, header = 0) \n",
    "    return data\n",
    "\n",
    "def create_csv_output(file_name: str, result: np.ndarray):\n",
    "    output = pd.DataFrame({\"duration_label\": result})\n",
    "    output.to_csv(file_name, index=False)\n",
    "\n",
    "def get_training(train_loc: str):\n",
    "    train = preprocess(train_loc)\n",
    "    X = train.iloc[:, :-1]\n",
    "    y = train.iloc[:, -1]\n",
    "    return (X, y)"
   ]
  },
  {
   "cell_type": "code",
   "execution_count": null,
   "metadata": {},
   "outputs": [],
   "source": [
    "#Zero-R classifier\n",
    "from sklearn import dummy\n",
    "\n",
    "(X, y) = get_training(TRAIN_LOCATION)\n",
    "zero_r_clf = dummy.DummyClassifier(strategy = \"most_frequent\")\n",
    "zero_r_clf.fit(X, y)\n",
    "\n",
    "test = preprocess(TEST_LOCATION)\n",
    "output = zero_r_clf.predict(test)\n",
    "create_csv_output(\"zero-r.csv\", output)"
   ]
  }
 ]
}