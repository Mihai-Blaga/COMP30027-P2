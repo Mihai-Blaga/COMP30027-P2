{
 "metadata": {
  "language_info": {
   "codemirror_mode": {
    "name": "ipython",
    "version": 3
   },
   "file_extension": ".py",
   "mimetype": "text/x-python",
   "name": "python",
   "nbconvert_exporter": "python",
   "pygments_lexer": "ipython3",
   "version": "3.8.5"
  },
  "orig_nbformat": 2,
  "kernelspec": {
   "name": "python385jvsc74a57bd0db1e82c7aa95844e45fbbbbcd794a7c1e0efcba29fed4bfa108b76bffa77ce80",
   "display_name": "Python 3.8.5 64-bit ('3.8.5': pyenv)"
  }
 },
 "nbformat": 4,
 "nbformat_minor": 2,
 "cells": [
  {
   "cell_type": "code",
   "execution_count": 1,
   "metadata": {},
   "outputs": [],
   "source": [
    "import pickle\n",
    "import pandas as pd\n",
    "from read_data import get_test, get_Doc2Vec\n",
    "from processing import exclude_non_numeric, combine_with_vec\n",
    "from utils import create_csv_output"
   ]
  },
  {
   "cell_type": "code",
   "execution_count": 2,
   "metadata": {},
   "outputs": [],
   "source": [
    "# Test data\n",
    "X_test = get_test()\n",
    "test_name_vec50, test_ingr_vec50, test_steps_vec50 = get_Doc2Vec(data=\"test\", num_features=50)\n",
    "test_name_vec100, test_ingr_vec100, test_steps_vec100 = get_Doc2Vec(data=\"test\", num_features=100)"
   ]
  },
  {
   "cell_type": "code",
   "execution_count": 3,
   "metadata": {},
   "outputs": [],
   "source": [
    "# Combine Doc2Vec with 50 features and non-numeric train data\n",
    "temp_X_test = X_test.copy()\n",
    "temp_X_test = exclude_non_numeric(temp_X_test)\n",
    "temp_test_name_vec50 = test_name_vec50.copy()\n",
    "temp_test_ingr_vec50 = test_ingr_vec50.copy()\n",
    "temp_test_steps_vec50 = test_steps_vec50.copy()\n",
    "X_test_combined_50: pd.DataFrame = combine_with_vec(temp_X_test, temp_test_name_vec50, temp_test_ingr_vec50, temp_test_steps_vec50)"
   ]
  },
  {
   "cell_type": "code",
   "execution_count": 4,
   "metadata": {},
   "outputs": [],
   "source": [
    "# Combine Doc2Vec with 100 features and non-numeric train data\n",
    "temp_X_test = X_test.copy()\n",
    "temp_X_test = exclude_non_numeric(temp_X_test)\n",
    "temp_test_name_vec100 = test_name_vec100.copy()\n",
    "temp_test_ingr_vec100 = test_ingr_vec100.copy()\n",
    "temp_test_steps_vec100 = test_steps_vec100.copy()\n",
    "X_test_combined_100: pd.DataFrame = combine_with_vec(temp_X_test, temp_test_name_vec100, temp_test_ingr_vec100, temp_test_steps_vec100)"
   ]
  },
  {
   "source": [
    "## SVC with RBF kernel with Doc2Vec 50 features"
   ],
   "cell_type": "markdown",
   "metadata": {}
  },
  {
   "cell_type": "code",
   "execution_count": 6,
   "metadata": {},
   "outputs": [],
   "source": [
    "SVM_RBF_50Doc2Vec_model = pickle.load(open(\"models/SVC-RBF-50Doc2Vec.sav\", \"rb\"))"
   ]
  },
  {
   "cell_type": "code",
   "execution_count": 7,
   "metadata": {},
   "outputs": [
    {
     "output_type": "stream",
     "name": "stdout",
     "text": [
      "CPU times: user 1min 11s, sys: 996 ms, total: 1min 12s\nWall time: 1min 13s\n"
     ]
    }
   ],
   "source": [
    "%%time\n",
    "predictions_50Doc2Vec = SVM_RBF_50Doc2Vec_model.predict(X_test_combined_50)"
   ]
  },
  {
   "cell_type": "code",
   "execution_count": 8,
   "metadata": {},
   "outputs": [],
   "source": [
    "create_csv_output(\"submission/SVM/SVC-RBF-50Doc2Vec\", predictions_50Doc2Vec)"
   ]
  },
  {
   "source": [
    "## SVM with RBF kernel with Doc2Vec 100 features"
   ],
   "cell_type": "markdown",
   "metadata": {}
  },
  {
   "cell_type": "code",
   "execution_count": 9,
   "metadata": {},
   "outputs": [],
   "source": [
    "SVM_RBF_100Doc2Vec_model = pickle.load(open(\"models/SVC-RBF-100Doc2Vec.sav\", \"rb\"))"
   ]
  },
  {
   "cell_type": "code",
   "execution_count": 10,
   "metadata": {},
   "outputs": [
    {
     "output_type": "stream",
     "name": "stdout",
     "text": [
      "CPU times: user 2min 21s, sys: 1.72 s, total: 2min 23s\nWall time: 2min 25s\n"
     ]
    }
   ],
   "source": [
    "%%time\n",
    "predictions_100Doc2Vec = SVM_RBF_100Doc2Vec_model.predict(X_test_combined_100)"
   ]
  },
  {
   "cell_type": "code",
   "execution_count": null,
   "metadata": {},
   "outputs": [],
   "source": [
    "create_csv_output(\"submission/SVM/SVC-RBF-100Doc2Vec\", predictions_100Doc2Vec)"
   ]
  },
  {
   "source": [
    "## LinearSVC with Doc2Vec 50 features"
   ],
   "cell_type": "markdown",
   "metadata": {}
  },
  {
   "cell_type": "code",
   "execution_count": 5,
   "metadata": {},
   "outputs": [],
   "source": [
    "LinearSVC_50Doc2Vec_model = pickle.load(open(\"models/LinearSVC_50Doc2Vec_model.sav\", \"rb\"))"
   ]
  },
  {
   "cell_type": "code",
   "execution_count": 6,
   "metadata": {},
   "outputs": [
    {
     "output_type": "stream",
     "name": "stdout",
     "text": [
      "CPU times: user 78.2 ms, sys: 43.9 ms, total: 122 ms\nWall time: 119 ms\n"
     ]
    }
   ],
   "source": [
    "%%time\n",
    "predictions_50Doc2Vec_LinearSVC = LinearSVC_50Doc2Vec_model.predict(X_test_combined_50)"
   ]
  },
  {
   "cell_type": "code",
   "execution_count": 8,
   "metadata": {},
   "outputs": [],
   "source": [
    "create_csv_output(\"submission/SVM/LinearSVC-50Doc2Vec\", predictions_50Doc2Vec_LinearSVC)"
   ]
  },
  {
   "source": [
    "## LightGBM with Doc2Vec 50 features"
   ],
   "cell_type": "markdown",
   "metadata": {}
  },
  {
   "cell_type": "code",
   "execution_count": 14,
   "metadata": {},
   "outputs": [],
   "source": [
    "LGBM_50Doc2Vec_model = pickle.load(open(\"models/LightGBM-50Doc2Vec.sav\", \"rb\"))"
   ]
  },
  {
   "cell_type": "code",
   "execution_count": 15,
   "metadata": {},
   "outputs": [
    {
     "output_type": "stream",
     "name": "stdout",
     "text": [
      "CPU times: user 741 ms, sys: 85.3 ms, total: 826 ms\nWall time: 147 ms\n"
     ]
    }
   ],
   "source": [
    "%%time\n",
    "predictions_50Doc2Vec_LightGBM = LGBM_50Doc2Vec_model.predict(X_test_combined_50)"
   ]
  },
  {
   "cell_type": "code",
   "execution_count": 16,
   "metadata": {},
   "outputs": [],
   "source": [
    "create_csv_output( \"submission/DecisionTree/LightGBM-50Doc2Vec\", (predictions_50Doc2Vec_LightGBM + 1).astype(float))"
   ]
  },
  {
   "source": [
    "## LightGBM with Doc2Vec 100 features"
   ],
   "cell_type": "markdown",
   "metadata": {}
  },
  {
   "cell_type": "code",
   "execution_count": 17,
   "metadata": {},
   "outputs": [],
   "source": [
    "LGBM_100Doc2Vec_model = pickle.load(open(\"models/LightGBM-100Doc2Vec.sav\", \"rb\"))"
   ]
  },
  {
   "cell_type": "code",
   "execution_count": 18,
   "metadata": {},
   "outputs": [
    {
     "output_type": "stream",
     "name": "stdout",
     "text": [
      "CPU times: user 532 ms, sys: 67.8 ms, total: 600 ms\nWall time: 158 ms\n"
     ]
    }
   ],
   "source": [
    "%%time\n",
    "predictions_100Doc2Vec_LightGBM = LGBM_100Doc2Vec_model.predict(X_test_combined_100)"
   ]
  },
  {
   "cell_type": "code",
   "execution_count": 23,
   "metadata": {},
   "outputs": [],
   "source": [
    "create_csv_output(\"submission/DecisionTree/LightGBM-100Doc2Vec\", (predictions_100Doc2Vec_LightGBM + 1).astype(float))"
   ]
  },
  {
   "source": [
    "## XGBoost with 50 Doc2Vec features"
   ],
   "cell_type": "markdown",
   "metadata": {}
  },
  {
   "cell_type": "code",
   "execution_count": 20,
   "metadata": {},
   "outputs": [],
   "source": [
    "XGB_50Doc2Vec_model = pickle.load(open(\"models/XGBoost-50Doc2Vec.sav\", \"rb\"))"
   ]
  },
  {
   "cell_type": "code",
   "execution_count": 21,
   "metadata": {},
   "outputs": [
    {
     "output_type": "stream",
     "name": "stdout",
     "text": [
      "CPU times: user 295 ms, sys: 25.8 ms, total: 321 ms\n",
      "Wall time: 72.2 ms\n",
      "/Users/mcken/.anyenv/envs/pyenv/versions/3.8.5/lib/python3.8/site-packages/xgboost/data.py:112: UserWarning: Use subset (sliced data) of np.ndarray is not recommended because it will generate extra copies and increase memory consumption\n",
      "  warnings.warn(\n"
     ]
    }
   ],
   "source": [
    "%%time\n",
    "predictions_50Doc2Vec_XGBoost = XGB_50Doc2Vec_model.predict(X_test_combined_50)"
   ]
  },
  {
   "cell_type": "code",
   "execution_count": 24,
   "metadata": {},
   "outputs": [],
   "source": [
    "create_csv_output(\"submission/DecisionTree/XGBoost-50Doc2Vec\", (predictions_50Doc2Vec_XGBoost + 1).astype(float))"
   ]
  },
  {
   "cell_type": "code",
   "execution_count": null,
   "metadata": {},
   "outputs": [],
   "source": []
  }
 ]
}