{
 "metadata": {
  "language_info": {
   "codemirror_mode": {
    "name": "ipython",
    "version": 3
   },
   "file_extension": ".py",
   "mimetype": "text/x-python",
   "name": "python",
   "nbconvert_exporter": "python",
   "pygments_lexer": "ipython3",
   "version": "3.8.5"
  },
  "orig_nbformat": 2,
  "kernelspec": {
   "name": "python385jvsc74a57bd0db1e82c7aa95844e45fbbbbcd794a7c1e0efcba29fed4bfa108b76bffa77ce80",
   "display_name": "Python 3.8.5 64-bit ('3.8.5': pyenv)"
  }
 },
 "nbformat": 4,
 "nbformat_minor": 2,
 "cells": [
  {
   "cell_type": "code",
   "execution_count": 2,
   "metadata": {},
   "outputs": [],
   "source": [
    "import pickle\n",
    "import pandas as pd\n",
    "from read_data import get_test, get_Doc2Vec\n",
    "from processing import exclude_non_numeric, combine_with_vec\n",
    "from utils import create_csv_output"
   ]
  },
  {
   "cell_type": "code",
   "execution_count": 3,
   "metadata": {},
   "outputs": [],
   "source": [
    "# Test data\n",
    "X_test = get_test()\n",
    "test_name_vec50, test_ingr_vec50, test_steps_vec50 = get_Doc2Vec(data=\"test\", num_features=50)\n",
    "test_name_vec100, test_ingr_vec100, test_steps_vec100 = get_Doc2Vec(data=\"test\", num_features=100)"
   ]
  },
  {
   "source": [
    "## SVM with RBF kernel with Doc2Vec 50 features"
   ],
   "cell_type": "markdown",
   "metadata": {}
  },
  {
   "cell_type": "code",
   "execution_count": 4,
   "metadata": {},
   "outputs": [],
   "source": [
    "# Combine Doc2Vec with 50 features and non-numeric train data\n",
    "temp_X_test = X_test.copy()\n",
    "temp_X_test = exclude_non_numeric(temp_X_test)\n",
    "temp_test_name_vec50 = test_name_vec50.copy()\n",
    "temp_test_ingr_vec50 = test_ingr_vec50.copy()\n",
    "temp_test_steps_vec50 = test_steps_vec50.copy()\n",
    "X_test_combined_50: pd.DataFrame = combine_with_vec(temp_X_test, temp_test_name_vec50, temp_test_ingr_vec50, temp_test_steps_vec50)"
   ]
  },
  {
   "cell_type": "code",
   "execution_count": null,
   "metadata": {},
   "outputs": [],
   "source": [
    "SVM_RBF_50Doc2Vec_model = pickle.load(open(\"models/SVM-RBF-50Doc2Vec.sav\", \"rb\"))"
   ]
  },
  {
   "cell_type": "code",
   "execution_count": null,
   "metadata": {},
   "outputs": [],
   "source": [
    "%%time\n",
    "predictions_50Doc2Vec = SVM_RBF_50Doc2Vec_model.predict(X_test_combined_50)"
   ]
  },
  {
   "cell_type": "code",
   "execution_count": null,
   "metadata": {},
   "outputs": [],
   "source": [
    "create_csv_output(\"submission/SVM/SVM-RBF-50Doc2Vec\", predictions_50Doc2Vec)"
   ]
  },
  {
   "source": [
    "## SVM with RBF kernel with Doc2Vec 100 features"
   ],
   "cell_type": "markdown",
   "metadata": {}
  },
  {
   "cell_type": "code",
   "execution_count": null,
   "metadata": {},
   "outputs": [],
   "source": [
    "# Combine Doc2Vec with 100 features and non-numeric train data\n",
    "temp_X_test = X_test.copy()\n",
    "temp_X_test = exclude_non_numeric(temp_X_test)\n",
    "temp_test_name_vec100 = test_name_vec100.copy()\n",
    "temp_test_ingr_vec100 = test_ingr_vec100.copy()\n",
    "temp_test_steps_vec100 = test_steps_vec100.copy()\n",
    "X_test_combined_100: pd.DataFrame = combine_with_vec(temp_X_test, temp_test_name_vec100, temp_test_ingr_vec100, temp_test_steps_vec100)"
   ]
  },
  {
   "cell_type": "code",
   "execution_count": null,
   "metadata": {},
   "outputs": [],
   "source": [
    "SVM_RBF_100Doc2Vec_model = pickle.load(open(\"models/SVM-RBF-100Doc2Vec.sav\", \"rb\"))"
   ]
  },
  {
   "cell_type": "code",
   "execution_count": null,
   "metadata": {},
   "outputs": [],
   "source": [
    "%%time\n",
    "predictions_100Doc2Vec = SVM_RBF_100Doc2Vec_model.predict(X_test_combined_100)"
   ]
  },
  {
   "cell_type": "code",
   "execution_count": null,
   "metadata": {},
   "outputs": [],
   "source": [
    "create_csv_output(\"submission/SVM/SVM-RBF-100Doc2Vec\", predictions_100Doc2Vec)"
   ]
  },
  {
   "source": [
    "## LinearSVC with Doc2Vec 50 features"
   ],
   "cell_type": "markdown",
   "metadata": {}
  },
  {
   "cell_type": "code",
   "execution_count": 5,
   "metadata": {},
   "outputs": [],
   "source": [
    "LinearSVC_50Doc2Vec_model = pickle.load(open(\"models/LinearSVC_50Doc2Vec_model.sav\", \"rb\"))"
   ]
  },
  {
   "cell_type": "code",
   "execution_count": 6,
   "metadata": {},
   "outputs": [
    {
     "output_type": "stream",
     "name": "stdout",
     "text": [
      "CPU times: user 78.2 ms, sys: 43.9 ms, total: 122 ms\nWall time: 119 ms\n"
     ]
    }
   ],
   "source": [
    "%%time\n",
    "predictions_50Doc2Vec_LinearSVC = LinearSVC_50Doc2Vec_model.predict(X_test_combined_50)"
   ]
  },
  {
   "cell_type": "code",
   "execution_count": 8,
   "metadata": {},
   "outputs": [],
   "source": [
    "create_csv_output(\"submission/SVM/LinearSVC-50Doc2Vec\", predictions_50Doc2Vec_LinearSVC)"
   ]
  },
  {
   "source": [
    "## LightGBM with Doc2Vec 50 features"
   ],
   "cell_type": "markdown",
   "metadata": {}
  },
  {
   "cell_type": "code",
   "execution_count": 5,
   "metadata": {},
   "outputs": [],
   "source": [
    "LGBM_model = pickle.load(open(\"models/LightGBM-50Doc2Vec.sav\", \"rb\"))"
   ]
  },
  {
   "cell_type": "code",
   "execution_count": 6,
   "metadata": {},
   "outputs": [
    {
     "output_type": "stream",
     "name": "stdout",
     "text": [
      "CPU times: user 520 ms, sys: 38.6 ms, total: 558 ms\nWall time: 115 ms\n"
     ]
    }
   ],
   "source": [
    "%%time\n",
    "predictions_50Doc2Vec_LightGBM = LGBM_model.predict(X_test_combined_50)"
   ]
  },
  {
   "cell_type": "code",
   "execution_count": 9,
   "metadata": {},
   "outputs": [],
   "source": [
    "create_csv_output( \"submission/DecisionTree/LightGBM-50Doc2Vec\", predictions_50Doc2Vec_LightGBM + 1)"
   ]
  }
 ]
}