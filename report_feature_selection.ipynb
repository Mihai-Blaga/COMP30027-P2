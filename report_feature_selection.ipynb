{
 "metadata": {
  "language_info": {
   "codemirror_mode": {
    "name": "ipython",
    "version": 3
   },
   "file_extension": ".py",
   "mimetype": "text/x-python",
   "name": "python",
   "nbconvert_exporter": "python",
   "pygments_lexer": "ipython3",
   "version": "3.8.5"
  },
  "orig_nbformat": 2,
  "kernelspec": {
   "name": "python385jvsc74a57bd0db1e82c7aa95844e45fbbbbcd794a7c1e0efcba29fed4bfa108b76bffa77ce80",
   "display_name": "Python 3.8.5 64-bit ('3.8.5': pyenv)"
  }
 },
 "nbformat": 4,
 "nbformat_minor": 2,
 "cells": [
  {
   "cell_type": "code",
   "execution_count": null,
   "metadata": {},
   "outputs": [],
   "source": [
    "from read_data import get_training, get_test, get_sparse, get_Doc2Vec\n",
    "from processing import exclude_non_numeric, combine_with_vec\n",
    "from utils import create_csv_output\n",
    "import numpy as np\n",
    "import pandas as pd\n",
    "import scipy\n",
    "import pickle\n",
    "from scipy.sparse import csr_matrix\n",
    "from sklearn.pipeline import make_pipeline\n",
    "from sklearn.preprocessing import StandardScaler, FunctionTransformer\n",
    "from sklearn.model_selection import train_test_split, cross_val_score, ShuffleSplit, StratifiedShuffleSplit\n",
    "import seaborn as sns\n",
    "import matplotlib.pyplot as plt\n",
    "from sklearn.metrics import confusion_matrix\n",
    "np.random.seed(30027)\n",
    "sns.set(rc={\"figure.facecolor\": \"white\"})"
   ]
  },
  {
   "cell_type": "code",
   "execution_count": null,
   "metadata": {},
   "outputs": [],
   "source": [
    "from sklearn.feature_selection import SelectKBest, chi2, RFE, SelectFromModel, f_classif, mutual_info_classif\n",
    "from sklearn.linear_model import LogisticRegression, Lasso\n",
    "from sklearn.ensemble import RandomForestClassifier\n",
    "from lightgbm import LGBMClassifier"
   ]
  },
  {
   "cell_type": "code",
   "execution_count": null,
   "metadata": {},
   "outputs": [],
   "source": [
    "# Training data\n",
    "train_X, train_y = get_training()\n",
    "y = (train_y - 1).astype(int)\n",
    "train_name_vec50, train_ingr_vec50, train_steps_vec50 = get_Doc2Vec(data=\"train\", num_features=50)\n",
    "train_name_vec100, train_ingr_vec100, train_steps_vec100 = get_Doc2Vec(data=\"train\", num_features=100)"
   ]
  },
  {
   "cell_type": "code",
   "execution_count": null,
   "metadata": {},
   "outputs": [],
   "source": [
    "X_combined_50: pd.DataFrame = combine_with_vec(exclude_non_numeric(train_X), train_name_vec50, train_ingr_vec50, train_steps_vec50)"
   ]
  },
  {
   "cell_type": "code",
   "execution_count": null,
   "metadata": {},
   "outputs": [],
   "source": [
    "X_train_50, X_test_50, y_train_50, y_test_50 = train_test_split(X_combined_50, y, test_size=0.2)"
   ]
  },
  {
   "cell_type": "code",
   "execution_count": null,
   "metadata": {},
   "outputs": [],
   "source": [
    "X_numeric_sparse = csr_matrix(FunctionTransformer(np.log1p).fit_transform(exclude_non_numeric(train_X)))\n",
    "train_name_vec, train_ingr_vec, train_steps_vec = get_sparse(data=\"train\")\n",
    "train_sparse = scipy.sparse.hstack((X_numeric_sparse, train_name_vec, train_ingr_vec, train_steps_vec), format=\"csr\")"
   ]
  },
  {
   "cell_type": "code",
   "execution_count": null,
   "metadata": {},
   "outputs": [],
   "source": [
    "X_train_csr, X_test_csr, y_train_csr, y_test_csr = train_test_split(train_sparse, y, test_size=0.2)"
   ]
  },
  {
   "source": [
    "## Lasso"
   ],
   "cell_type": "markdown",
   "metadata": {}
  },
  {
   "cell_type": "code",
   "execution_count": null,
   "metadata": {},
   "outputs": [],
   "source": [
    "alphas = [0.001, 0.002, 0.003, 0.005]"
   ]
  },
  {
   "cell_type": "code",
   "execution_count": null,
   "metadata": {},
   "outputs": [],
   "source": [
    "X_train_50.shape"
   ]
  },
  {
   "cell_type": "code",
   "execution_count": null,
   "metadata": {},
   "outputs": [],
   "source": [
    "num_features = list()\n",
    "for alpha in alphas:\n",
    "    selected_feat = SelectFromModel(Lasso(alpha=alpha)).fit_transform(X_train_50, y_train_50)\n",
    "    num_features.append(selected_feat.shape[1])"
   ]
  },
  {
   "cell_type": "code",
   "execution_count": null,
   "metadata": {},
   "outputs": [],
   "source": [
    "lasso_fs = SelectFromModel(Lasso(alpha=0.003))\n",
    "lasso_fs.fit(X_train_50, y_train_50)\n",
    "selected_feat = lasso_fs.transform(X_train_50)"
   ]
  },
  {
   "cell_type": "code",
   "execution_count": null,
   "metadata": {},
   "outputs": [],
   "source": [
    "feature_imp = pd.DataFrame(sorted(zip(lasso_fs.estimator_.coef_, X_train_50.columns), reverse=True), columns=[\"Value\", \"Feature\"])"
   ]
  },
  {
   "cell_type": "code",
   "execution_count": null,
   "metadata": {},
   "outputs": [],
   "source": [
    "plt.figure(figsize=(7, 5))\n",
    "sns.barplot(x=\"Value\", y=\"Feature\", data=feature_imp.iloc[:15,:], palette=(\"Blues_d\"))\n",
    "plt.title(\"Feature importance by LASSO for Doc2Vec features\")\n",
    "plt.savefig(\"report_pics/FeatureEngneering/Lasso_Doc2Vec_feature_imp.png\")"
   ]
  },
  {
   "cell_type": "code",
   "execution_count": null,
   "metadata": {},
   "outputs": [],
   "source": [
    "lasso_cv_fs = SelectFromModel(Lasso(alpha=0.001))\n",
    "lasso_cv_fs.fit(X_train_csr, y_train_csr)"
   ]
  },
  {
   "cell_type": "code",
   "execution_count": null,
   "metadata": {},
   "outputs": [],
   "source": [
    "features_names = list()\n",
    "features_names.append(\"n_steps\")\n",
    "features_names.append(\"n_ingredients\")\n",
    "for i in range(train_name_vec.shape[1]):\n",
    "    features_names.append(\"name_\" + str(i))\n",
    "for i in range(train_ingr_vec.shape[1]):\n",
    "    features_names.append(\"ingr\" + str(i))\n",
    "for i in range(train_steps_vec.shape[1]):\n",
    "    features_names.append(\"steps\" + str(i))"
   ]
  },
  {
   "cell_type": "code",
   "execution_count": null,
   "metadata": {},
   "outputs": [],
   "source": [
    "selected_cv_feat = lasso_cv_fs.transform(X_train_csr)\n",
    "feature_cv_imp = pd.DataFrame(sorted(zip(lasso_cv_fs.estimator_.coef_, features_names), reverse=True), columns=[\"Value\", \"Feature\"])"
   ]
  },
  {
   "cell_type": "code",
   "execution_count": null,
   "metadata": {},
   "outputs": [],
   "source": [
    "plt.figure(figsize=(8, 5))\n",
    "sns.barplot(x=\"Value\", y=\"Feature\", data=feature_cv_imp.iloc[:15,:], palette=(\"Blues_d\"))\n",
    "plt.title(\"Feature importance by LASSO with CountVectorizer features\")\n",
    "plt.savefig(\"report_pics/FeatureEngneering/Lasso_CountVectorizer_feature_imp.png\")"
   ]
  },
  {
   "source": [
    "## Mutual Information"
   ],
   "cell_type": "markdown",
   "metadata": {}
  },
  {
   "cell_type": "code",
   "execution_count": null,
   "metadata": {},
   "outputs": [],
   "source": [
    "mi_selector = SelectKBest(mutual_info_classif, k=23)\n",
    "mi_selector.fit(X_train_50, y_train_50)"
   ]
  },
  {
   "cell_type": "code",
   "execution_count": null,
   "metadata": {},
   "outputs": [],
   "source": [
    "selected_mi_feat = mi_selector.transform(X_train_50)"
   ]
  },
  {
   "cell_type": "code",
   "execution_count": null,
   "metadata": {},
   "outputs": [],
   "source": [
    "mi_imp = pd.DataFrame(sorted(zip(mi_selector.scores_, X_train_50.columns), reverse=True), columns=[\"Value\", \"Feature\"])"
   ]
  },
  {
   "cell_type": "code",
   "execution_count": null,
   "metadata": {},
   "outputs": [],
   "source": [
    "plt.figure(figsize=(8, 5))\n",
    "sns.barplot(x=\"Value\", y=\"Feature\", data=mi_imp.iloc[:15,:], palette=(\"Blues_d\"))\n",
    "plt.title(\"Feature importance by Mutual Information with Doc2Vec features\")\n",
    "plt.savefig(\"report_pics/FeatureEngneering/mi_Doc2Vec.png\")"
   ]
  },
  {
   "cell_type": "code",
   "execution_count": null,
   "metadata": {},
   "outputs": [],
   "source": [
    "mi_cv_selector = SelectKBest(mutual_info_classif, k=300)\n",
    "mi_cv_selector.fit(X_train_csr, y_train_csr)"
   ]
  },
  {
   "cell_type": "code",
   "execution_count": null,
   "metadata": {},
   "outputs": [],
   "source": [
    "selected_mi_cv_feat = mi_cv_selector.transform(X_train_csr)\n",
    "mi_cv_imp = pd.DataFrame(sorted(zip(mi_cv_selector.scores_, features_names), reverse=True), columns=[\"Value\", \"Feature\"])"
   ]
  },
  {
   "cell_type": "code",
   "execution_count": null,
   "metadata": {},
   "outputs": [],
   "source": [
    "plt.figure(figsize=(8, 5))\n",
    "sns.barplot(x=\"Value\", y=\"Feature\", data=mi_cv_imp.iloc[:15,:], palette=(\"Blues_d\"))\n",
    "plt.title(\"Feature importance by Mutual Information with CountVectorizer features\")\n",
    "plt.savefig(\"report_pics/FeatureEngneering/mi_CountVectorizer.png\")"
   ]
  },
  {
   "cell_type": "code",
   "execution_count": null,
   "metadata": {},
   "outputs": [],
   "source": []
  },
  {
   "cell_type": "code",
   "execution_count": null,
   "metadata": {},
   "outputs": [],
   "source": [
    "score_Doc2Vec = list()\n",
    "for i in range(5, 153, 5):\n",
    "    lr_fs_pipeline = make_pipeline(SelectKBest(mutual_info_classif, k=i),LogisticRegression())\n",
    "    score_Doc2Vec.append(lr_fs_pipeline.fit(X_train_50, y_train_50).score(X_test_50, y_test_50))"
   ]
  },
  {
   "cell_type": "code",
   "execution_count": null,
   "metadata": {},
   "outputs": [],
   "source": [
    "num_f_c2v = [n for n in range(5, 152, 5)]"
   ]
  },
  {
   "cell_type": "code",
   "execution_count": null,
   "metadata": {},
   "outputs": [],
   "source": [
    "plt.figure(figsize=(7, 5))\n",
    "sns.lineplot(x=num_f_c2v, y=score_Doc2Vec)\n",
    "plt.title(\"Doc2Vec Number of features vs Score of LogisticRegression\", size=13)\n",
    "plt.xlabel(\"Number of features\")\n",
    "plt.ylabel(\"Score\")\n",
    "plt.savefig(\"report_pics/FeatureEngneering/num_f_vs_score_Doc2Vec.png\")"
   ]
  },
  {
   "cell_type": "code",
   "execution_count": null,
   "metadata": {},
   "outputs": [],
   "source": [
    "score_cv = list()\n",
    "for i in range(1000, X_train_csr.shape[1], 1000):\n",
    "    lr_fs_pipeline = make_pipeline(SelectKBest(mutual_info_classif, k=i), LogisticRegression())\n",
    "    score_cv.append(lr_fs_pipeline.fit(X_train_csr, y_train_csr).score(X_test_csr, y_test_csr))"
   ]
  },
  {
   "cell_type": "code",
   "execution_count": null,
   "metadata": {},
   "outputs": [],
   "source": [
    "num_f_cv = [i for i in range(1000, X_train_csr.shape[1], 1000)]"
   ]
  },
  {
   "cell_type": "code",
   "execution_count": null,
   "metadata": {},
   "outputs": [],
   "source": [
    "plt.figure(figsize=(7, 5))\n",
    "sns.lineplot(x=num_f_cv, y=score_cv)\n",
    "plt.title(\"CountVectorizer Number of features vs Score of LogisticRegression\", size=13)\n",
    "plt.xlabel(\"Number of features\")\n",
    "plt.ylabel(\"Score\")\n",
    "plt.ylim((0.75, 0.81))\n",
    "plt.savefig(\"report_pics/FeatureEngneering/num_f_vs_score_CV.png\")"
   ]
  },
  {
   "cell_type": "code",
   "execution_count": null,
   "metadata": {},
   "outputs": [],
   "source": [
    "score_cv"
   ]
  },
  {
   "cell_type": "code",
   "execution_count": null,
   "metadata": {},
   "outputs": [],
   "source": []
  }
 ]
}