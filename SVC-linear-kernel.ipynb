{
 "metadata": {
  "language_info": {
   "codemirror_mode": {
    "name": "ipython",
    "version": 3
   },
   "file_extension": ".py",
   "mimetype": "text/x-python",
   "name": "python",
   "nbconvert_exporter": "python",
   "pygments_lexer": "ipython3",
   "version": "3.8.5"
  },
  "orig_nbformat": 2,
  "kernelspec": {
   "name": "python385jvsc74a57bd0db1e82c7aa95844e45fbbbbcd794a7c1e0efcba29fed4bfa108b76bffa77ce80",
   "display_name": "Python 3.8.5 64-bit ('3.8.5': pyenv)"
  }
 },
 "nbformat": 4,
 "nbformat_minor": 2,
 "cells": [
  {
   "cell_type": "code",
   "execution_count": null,
   "metadata": {},
   "outputs": [],
   "source": [
    "from read_data import get_training, get_test, get_Doc2Vec, get_data\n",
    "from processing import combine_with_vec, exclude_non_numeric\n",
    "from sklearn.svm import SVC\n",
    "import pandas as pd\n",
    "import numpy as np\n",
    "from sklearn.pipeline import Pipeline\n",
    "from sklearn.preprocessing import MinMaxScaler\n",
    "from sklearn.preprocessing import FunctionTransformer\n",
    "from sklearn.model_selection import train_test_split\n",
    "import pickle"
   ]
  },
  {
   "cell_type": "code",
   "execution_count": null,
   "metadata": {},
   "outputs": [],
   "source": [
    "# Training data\n",
    "X, y = get_training()\n",
    "train_name_vec50, train_ingr_vec50, train_steps_vec50 = get_Doc2Vec(data=\"train\", num_features=50)\n",
    "train_name_vec100, train_ingr_vec100, train_steps_vec100 = get_Doc2Vec(data=\"train\", num_features=100)"
   ]
  },
  {
   "source": [
    "# SVM pipelines"
   ],
   "cell_type": "markdown",
   "metadata": {}
  },
  {
   "cell_type": "code",
   "execution_count": null,
   "metadata": {},
   "outputs": [],
   "source": [
    "# SVM with BRF kernel\n",
    "steps = [('MinMaxScaler', MinMaxScaler()), ('LogTransformer', FunctionTransformer(np.log1p)), ('SVM', SVC(kernel='rbf', gamma='auto', C=1.0, random_state=30027))]\n",
    "SVM_RBF_Doc2Vec_pipeline = Pipeline(steps=steps)"
   ]
  },
  {
   "source": [
    "## SVM with RBF kernel and Doc2Vec with 50 features "
   ],
   "cell_type": "markdown",
   "metadata": {}
  },
  {
   "cell_type": "code",
   "execution_count": null,
   "metadata": {},
   "outputs": [],
   "source": [
    "# Combine Doc2Vec with 50 features and non-numeric train data\n",
    "temp_X = X.copy()\n",
    "temp_X = exclude_non_numeric(temp_X)\n",
    "temp_train_name_vec50 = train_name_vec50.copy()\n",
    "temp_train_ingr_vec50 = train_ingr_vec50.copy()\n",
    "temp_train_steps_vec50 = train_steps_vec50.copy()\n",
    "X_combined_50: pd.DataFrame = combine_with_vec(temp_X, temp_train_name_vec50, temp_train_ingr_vec50, temp_train_steps_vec50)"
   ]
  },
  {
   "cell_type": "code",
   "execution_count": null,
   "metadata": {},
   "outputs": [],
   "source": [
    "X_train, X_test, y_train, y_test = train_test_split(X_combined_50, y, test_size=0.2, random_state=30027)"
   ]
  },
  {
   "source": [
    "Warning: takes 5min to run below code"
   ],
   "cell_type": "markdown",
   "metadata": {}
  },
  {
   "cell_type": "code",
   "execution_count": null,
   "metadata": {},
   "outputs": [],
   "source": [
    "%%time\n",
    "SVM_RBF_50Doc2Vec_model = SVM_RBF_Doc2Vec_pipeline.fit(X_train, y_train)"
   ]
  },
  {
   "source": [
    "Above model training time\n",
    "- CPU times: user 4min 32s, sys: 4.57 s, total: 4min 37s\n",
    "- Wall time: 4min 49s"
   ],
   "cell_type": "markdown",
   "metadata": {}
  },
  {
   "cell_type": "code",
   "execution_count": null,
   "metadata": {},
   "outputs": [],
   "source": [
    "# Score\n",
    "SVM_RBF_50Doc2Vec_model.score(X_test, y_test)\n",
    "# -> 0.7095"
   ]
  },
  {
   "source": [
    "### Model with all train data\n",
    "Warning: Takes long time!!!!!"
   ],
   "cell_type": "markdown",
   "metadata": {}
  },
  {
   "cell_type": "code",
   "execution_count": null,
   "metadata": {},
   "outputs": [],
   "source": [
    "%%time\n",
    "SVM_RBF_50Doc2Vec_model = SVM_RBF_Doc2Vec_pipeline.fit(X_combined_50, y)"
   ]
  },
  {
   "source": [
    "Above model training time\n",
    "- CPU times: user 6min 57s, sys: 6.75 s, total: 7min 3s\n",
    "- Wall time: 7min 19s"
   ],
   "cell_type": "markdown",
   "metadata": {}
  },
  {
   "cell_type": "code",
   "execution_count": null,
   "metadata": {},
   "outputs": [],
   "source": [
    "# save model\n",
    "pickle.dump(SVM_RBF_50Doc2Vec_model, open(\"models/SVM-RBF-50Doc2Vec.sav\", \"wb\"))"
   ]
  },
  {
   "source": [
    "## SVM with RBF kernel and Doc2Vec with 100 features"
   ],
   "cell_type": "markdown",
   "metadata": {}
  },
  {
   "cell_type": "code",
   "execution_count": null,
   "metadata": {},
   "outputs": [],
   "source": [
    "# Combine Doc2Vec with 50 features and non-numeric train data\n",
    "temp_X = X.copy()\n",
    "temp_X = exclude_non_numeric(temp_X)\n",
    "temp_train_name_vec100 = train_name_vec100.copy()\n",
    "temp_train_ingr_vec100 = train_ingr_vec100.copy()\n",
    "temp_train_steps_vec100 = train_steps_vec100.copy()\n",
    "X_combined_100: pd.DataFrame = combine_with_vec(temp_X, temp_train_name_vec100, temp_train_ingr_vec100, temp_train_steps_vec100)"
   ]
  },
  {
   "cell_type": "code",
   "execution_count": null,
   "metadata": {},
   "outputs": [],
   "source": [
    "X_train, X_test, y_train, y_test = train_test_split(X_combined_100, y, test_size=0.2, random_state=30027)"
   ]
  },
  {
   "source": [
    "Warning: below code take loooong time to excute!!!"
   ],
   "cell_type": "markdown",
   "metadata": {}
  },
  {
   "cell_type": "code",
   "execution_count": null,
   "metadata": {},
   "outputs": [],
   "source": [
    "%%time\n",
    "SVM_RBF_100Doc2Vec_model = SVM_RBF_Doc2Vec_pipeline.fit(X_train, y_train)"
   ]
  },
  {
   "source": [
    "Above model training time\n",
    "- CPU times: user 8min 42s, sys: 9.23 s, total: 8min 51s\n",
    "- Wall time: 9min 15s"
   ],
   "cell_type": "markdown",
   "metadata": {}
  },
  {
   "cell_type": "code",
   "execution_count": null,
   "metadata": {},
   "outputs": [],
   "source": [
    "# Score\n",
    "SVM_RBF_100Doc2Vec_model.score(X_test, y_test)\n",
    "# -> 0.707375 Score decreased lol"
   ]
  },
  {
   "source": [
    "### Model with all train data\n",
    "Warning: take very loooooong time!!!!"
   ],
   "cell_type": "markdown",
   "metadata": {}
  },
  {
   "cell_type": "code",
   "execution_count": null,
   "metadata": {},
   "outputs": [],
   "source": [
    "%%time\n",
    "SVM_RBF_100Doc2Vec_model = SVM_RBF_Doc2Vec_pipeline.fit(X_combined_100, y)"
   ]
  },
  {
   "cell_type": "code",
   "execution_count": null,
   "metadata": {},
   "outputs": [],
   "source": [
    "# save model\n",
    "pickle.dump(SVM_RBF_100Doc2Vec_model, open(\"models/SVM-RBF-100Doc2Vec.sav\", \"wb\"))"
   ]
  },
  {
   "cell_type": "code",
   "execution_count": null,
   "metadata": {},
   "outputs": [],
   "source": []
  }
 ]
}