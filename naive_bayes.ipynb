{
 "metadata": {
  "language_info": {
   "codemirror_mode": {
    "name": "ipython",
    "version": 3
   },
   "file_extension": ".py",
   "mimetype": "text/x-python",
   "name": "python",
   "nbconvert_exporter": "python",
   "pygments_lexer": "ipython3",
   "version": "3.8.5"
  },
  "orig_nbformat": 2,
  "kernelspec": {
   "name": "python385jvsc74a57bd0db1e82c7aa95844e45fbbbbcd794a7c1e0efcba29fed4bfa108b76bffa77ce80",
   "display_name": "Python 3.8.5 64-bit ('3.8.5': pyenv)"
  }
 },
 "nbformat": 4,
 "nbformat_minor": 2,
 "cells": [
  {
   "cell_type": "code",
   "execution_count": 30,
   "metadata": {},
   "outputs": [],
   "source": [
    "from read_data import get_training, get_Doc2Vec\n",
    "from processing import  combine_with_vec, exclude_non_numeric\n",
    "from sklearn.naive_bayes import MultinomialNB, ComplementNB, GaussianNB\n",
    "import pandas as pd\n",
    "import numpy as np\n",
    "from sklearn.pipeline import make_pipeline\n",
    "from sklearn.preprocessing import MinMaxScaler, StandardScaler, FunctionTransformer\n",
    "from sklearn.model_selection import train_test_split, cross_val_score, ShuffleSplit\n",
    "from sklearn.compose import make_column_transformer\n",
    "import pickle\n",
    "np.random.seed(30027)"
   ]
  },
  {
   "cell_type": "code",
   "execution_count": 12,
   "metadata": {},
   "outputs": [],
   "source": [
    "# Training data\n",
    "X, y = get_training()\n",
    "train_name_vec50, train_ingr_vec50, train_steps_vec50 = get_Doc2Vec(data=\"train\", num_features=50)\n",
    "train_name_vec100, train_ingr_vec100, train_steps_vec100 = get_Doc2Vec(data=\"train\", num_features=100)"
   ]
  },
  {
   "cell_type": "code",
   "execution_count": 13,
   "metadata": {},
   "outputs": [],
   "source": [
    "# Combine Doc2Vec with 50 features and non-numeric train data\n",
    "temp_X = X.copy()\n",
    "temp_X = exclude_non_numeric(temp_X)\n",
    "temp_train_name_vec50 = train_name_vec50.copy()\n",
    "temp_train_ingr_vec50 = train_ingr_vec50.copy()\n",
    "temp_train_steps_vec50 = train_steps_vec50.copy()\n",
    "X_combined_50: pd.DataFrame = combine_with_vec(temp_X, temp_train_name_vec50, temp_train_ingr_vec50, temp_train_steps_vec50)"
   ]
  },
  {
   "cell_type": "code",
   "execution_count": 14,
   "metadata": {},
   "outputs": [],
   "source": [
    "X_train_50, X_test_50, y_train_50, y_test_50 = train_test_split(X_combined_50, y, test_size=0.2)"
   ]
  },
  {
   "cell_type": "code",
   "execution_count": 15,
   "metadata": {},
   "outputs": [],
   "source": [
    "# Combine Doc2Vec with 50 features and non-numeric train data\n",
    "temp_X = X.copy()\n",
    "temp_X = exclude_non_numeric(temp_X)\n",
    "temp_train_name_vec100 = train_name_vec100.copy()\n",
    "temp_train_ingr_vec100 = train_ingr_vec100.copy()\n",
    "temp_train_steps_vec100 = train_steps_vec100.copy()\n",
    "X_combined_100: pd.DataFrame = combine_with_vec(temp_X, temp_train_name_vec100, temp_train_ingr_vec100, temp_train_steps_vec100)"
   ]
  },
  {
   "cell_type": "code",
   "execution_count": 16,
   "metadata": {},
   "outputs": [],
   "source": [
    "X_train_100, X_test_100, y_train_100, y_test_100 = train_test_split(X_combined_100, y, test_size=0.2)"
   ]
  },
  {
   "source": [
    "## Naïve Bayes Classifier pipelines"
   ],
   "cell_type": "markdown",
   "metadata": {}
  },
  {
   "source": [
    "# with GaussianNB\n",
    "GaussianNB_pipeline = make_pipeline(\n",
    "    make_column_transformer((FunctionTransformer(np.log1p), [\"n_ingredients\", \"n_steps\"]), remainder='passthrough'),\n",
    "    StandardScaler(),\n",
    "    GaussianNB()\n",
    "    )"
   ],
   "cell_type": "code",
   "metadata": {},
   "execution_count": 5,
   "outputs": []
  },
  {
   "cell_type": "code",
   "execution_count": 37,
   "metadata": {},
   "outputs": [],
   "source": [
    "ComplementNB_pipeline = make_pipeline(\n",
    "    make_column_transformer((FunctionTransformer(np.log1p), [\"n_ingredients\", \"n_steps\"]), remainder='passthrough'),\n",
    "    MinMaxScaler(),\n",
    "    ComplementNB()\n",
    "    )"
   ]
  },
  {
   "source": [
    "## GaussianNB with Doc2Vec 50 features"
   ],
   "cell_type": "markdown",
   "metadata": {}
  },
  {
   "cell_type": "code",
   "execution_count": 6,
   "metadata": {},
   "outputs": [
    {
     "output_type": "stream",
     "name": "stdout",
     "text": [
      "CPU times: user 202 ms, sys: 75.2 ms, total: 277 ms\nWall time: 280 ms\n"
     ]
    }
   ],
   "source": [
    "%%time\n",
    "partial_GuassianNB_50Doc2Vec_model = GaussianNB_pipeline.fit(X_train_50, y_train_50)"
   ]
  },
  {
   "cell_type": "code",
   "execution_count": 24,
   "metadata": {},
   "outputs": [
    {
     "output_type": "execute_result",
     "data": {
      "text/plain": [
       "array([0.641875, 0.644375, 0.645   , 0.663125, 0.64375 ])"
      ]
     },
     "metadata": {},
     "execution_count": 24
    }
   ],
   "source": [
    "# Cross validation\n",
    "cross_val_score(GaussianNB_pipeline, X_test_50, y_test_50, cv=ShuffleSplit(n_splits=5, test_size=0.2))"
   ]
  },
  {
   "cell_type": "code",
   "execution_count": 7,
   "metadata": {},
   "outputs": [
    {
     "output_type": "execute_result",
     "data": {
      "text/plain": [
       "0.632875"
      ]
     },
     "metadata": {},
     "execution_count": 7
    }
   ],
   "source": [
    "partial_GuassianNB_50Doc2Vec_model.score(X_test_50, y_test_50)\n",
    "# -> 0.632875"
   ]
  },
  {
   "cell_type": "code",
   "execution_count": 8,
   "metadata": {},
   "outputs": [],
   "source": [
    "GuassianNB_50Doc2Vec_model = GaussianNB_pipeline.fit(X_combined_50, y)"
   ]
  },
  {
   "cell_type": "code",
   "execution_count": 9,
   "metadata": {},
   "outputs": [],
   "source": [
    "pickle.dump(GuassianNB_50Doc2Vec_model, open(\"models/GaussianNB-50Doc2Vec.sav\", \"wb\"))"
   ]
  },
  {
   "source": [
    "## GaussianNB with Doc2Vec 100 features"
   ],
   "cell_type": "markdown",
   "metadata": {}
  },
  {
   "cell_type": "code",
   "execution_count": 17,
   "metadata": {},
   "outputs": [
    {
     "output_type": "stream",
     "name": "stdout",
     "text": [
      "CPU times: user 441 ms, sys: 166 ms, total: 607 ms\nWall time: 632 ms\n"
     ]
    }
   ],
   "source": [
    "%%time\n",
    "partial_GuassianNB_100Doc2Vec_model = GaussianNB_pipeline.fit(X_train_100, y_train_100)"
   ]
  },
  {
   "cell_type": "code",
   "execution_count": 25,
   "metadata": {},
   "outputs": [
    {
     "output_type": "execute_result",
     "data": {
      "text/plain": [
       "array([0.610625, 0.60375 , 0.60625 , 0.611875, 0.59125 ])"
      ]
     },
     "metadata": {},
     "execution_count": 25
    }
   ],
   "source": [
    "cross_val_score(GaussianNB_pipeline, X_test_100, y_test_100, cv=ShuffleSplit(n_splits=5, test_size=0.2))"
   ]
  },
  {
   "cell_type": "code",
   "execution_count": 18,
   "metadata": {},
   "outputs": [
    {
     "output_type": "execute_result",
     "data": {
      "text/plain": [
       "0.597"
      ]
     },
     "metadata": {},
     "execution_count": 18
    }
   ],
   "source": [
    "partial_GuassianNB_100Doc2Vec_model.score(X_test_100, y_test_100)\n",
    "# -> 0.597"
   ]
  },
  {
   "cell_type": "code",
   "execution_count": 26,
   "metadata": {},
   "outputs": [],
   "source": [
    "GuassianNB_100Doc2Vec_model = GaussianNB_pipeline.fit(X_combined_100, y)"
   ]
  },
  {
   "cell_type": "code",
   "execution_count": 27,
   "metadata": {},
   "outputs": [],
   "source": [
    "pickle.dump(GuassianNB_100Doc2Vec_model, open(\"models/GaussianNB-100Doc2Vec.sav\", \"wb\"))"
   ]
  },
  {
   "source": [
    "## ComplementNB with 50 Doc2Vec features"
   ],
   "cell_type": "markdown",
   "metadata": {}
  },
  {
   "cell_type": "code",
   "execution_count": 38,
   "metadata": {},
   "outputs": [
    {
     "output_type": "stream",
     "name": "stdout",
     "text": [
      "CPU times: user 153 ms, sys: 37.1 ms, total: 191 ms\nWall time: 145 ms\n"
     ]
    }
   ],
   "source": [
    "%%time\n",
    "partial_ComplementNB_50Doc2Vec_model = ComplementNB_pipeline.fit(X_train_50, y_train_50)"
   ]
  },
  {
   "cell_type": "code",
   "execution_count": 42,
   "metadata": {},
   "outputs": [
    {
     "output_type": "execute_result",
     "data": {
      "text/plain": [
       "array([0.69    , 0.674375, 0.681875, 0.685625, 0.690625])"
      ]
     },
     "metadata": {},
     "execution_count": 42
    }
   ],
   "source": [
    "cross_val_score(ComplementNB_pipeline, X_test_50, y_test_50, cv=ShuffleSplit(n_splits=5, test_size=0.2))"
   ]
  },
  {
   "cell_type": "code",
   "execution_count": 39,
   "metadata": {},
   "outputs": [
    {
     "output_type": "execute_result",
     "data": {
      "text/plain": [
       "0.694"
      ]
     },
     "metadata": {},
     "execution_count": 39
    }
   ],
   "source": [
    "partial_ComplementNB_50Doc2Vec_model.score(X_test_50, y_test_50)"
   ]
  },
  {
   "cell_type": "code",
   "execution_count": 40,
   "metadata": {},
   "outputs": [],
   "source": [
    "ComplementNB_50Doc2Vec_model = ComplementNB_pipeline.fit(X_combined_50, y)"
   ]
  },
  {
   "cell_type": "code",
   "execution_count": 41,
   "metadata": {},
   "outputs": [],
   "source": [
    "pickle.dump(ComplementNB_50Doc2Vec_model, open(\"models/ComplementNB-50Doc2Vec.sav\", \"wb\"))"
   ]
  },
  {
   "source": [
    "## ComplementNB with 100 Doc2Vec features"
   ],
   "cell_type": "markdown",
   "metadata": {}
  },
  {
   "cell_type": "code",
   "execution_count": 45,
   "metadata": {},
   "outputs": [
    {
     "output_type": "stream",
     "name": "stdout",
     "text": [
      "CPU times: user 254 ms, sys: 43.9 ms, total: 298 ms\nWall time: 230 ms\n"
     ]
    }
   ],
   "source": [
    "%%time\n",
    "partial_ComplementNB_100Doc2Vec_model = ComplementNB_pipeline.fit(X_train_100, y_train_100)"
   ]
  },
  {
   "cell_type": "code",
   "execution_count": 46,
   "metadata": {},
   "outputs": [
    {
     "output_type": "execute_result",
     "data": {
      "text/plain": [
       "array([0.668125, 0.671875, 0.688125, 0.679375, 0.705   ])"
      ]
     },
     "metadata": {},
     "execution_count": 46
    }
   ],
   "source": [
    "cross_val_score(ComplementNB_pipeline, X_test_100, y_test_100, cv=ShuffleSplit(n_splits=5, test_size=0.2))"
   ]
  },
  {
   "cell_type": "code",
   "execution_count": 47,
   "metadata": {},
   "outputs": [
    {
     "output_type": "execute_result",
     "data": {
      "text/plain": [
       "0.687"
      ]
     },
     "metadata": {},
     "execution_count": 47
    }
   ],
   "source": [
    "partial_ComplementNB_100Doc2Vec_model.score(X_test_100, y_test_100)"
   ]
  },
  {
   "cell_type": "code",
   "execution_count": 48,
   "metadata": {},
   "outputs": [],
   "source": [
    "ComplementNB_100Doc2Vec_model = ComplementNB_pipeline.fit(X_combined_100, y)"
   ]
  },
  {
   "cell_type": "code",
   "execution_count": 50,
   "metadata": {},
   "outputs": [],
   "source": [
    "pickle.dump(ComplementNB_100Doc2Vec_model, open(\"models/ComplementNB-100Doc2Vec.sav\", \"wb\"))"
   ]
  },
  {
   "cell_type": "code",
   "execution_count": null,
   "metadata": {},
   "outputs": [],
   "source": []
  }
 ]
}