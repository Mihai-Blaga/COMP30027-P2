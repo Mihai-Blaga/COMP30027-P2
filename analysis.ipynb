{
 "metadata": {
  "language_info": {
   "codemirror_mode": {
    "name": "ipython",
    "version": 3
   },
   "file_extension": ".py",
   "mimetype": "text/x-python",
   "name": "python",
   "nbconvert_exporter": "python",
   "pygments_lexer": "ipython3",
   "version": "3.8.5"
  },
  "orig_nbformat": 2,
  "kernelspec": {
   "name": "python385jvsc74a57bd0db1e82c7aa95844e45fbbbbcd794a7c1e0efcba29fed4bfa108b76bffa77ce80",
   "display_name": "Python 3.8.5 64-bit ('3.8.5': pyenv)"
  }
 },
 "nbformat": 4,
 "nbformat_minor": 2,
 "cells": [
  {
   "cell_type": "code",
   "execution_count": null,
   "metadata": {},
   "outputs": [],
   "source": [
    "import scipy.stats\n",
    "import scipy\n",
    "import pandas as pd\n",
    "import numpy as np\n",
    "import seaborn as sns\n",
    "import matplotlib.pyplot as plt\n",
    "\n",
    "from read_data import get_training, get_test, get_Doc2Vec, get_data\n",
    "from processing import combine_with_vec, exclude_non_numeric\n",
    "\n",
    "from sklearn.preprocessing import FunctionTransformer, MinMaxScaler, StandardScaler\n",
    "from sklearn.pipeline import Pipeline\n",
    "sns.set(rc={\"figure.facecolor\": \"white\"})"
   ]
  },
  {
   "cell_type": "code",
   "execution_count": null,
   "metadata": {},
   "outputs": [],
   "source": [
    "X, y = get_training()\n",
    "train_name_vec50, train_ingr_vec50, train_steps_vec50 = get_Doc2Vec(data=\"train\", num_features=50)\n",
    "train_name_vec100, train_ingr_vec100, train_steps_vec100 = get_Doc2Vec(data=\"train\", num_features=100)"
   ]
  },
  {
   "cell_type": "code",
   "execution_count": null,
   "metadata": {},
   "outputs": [],
   "source": [
    "# Combine Doc2Vec with 50 features and non-numeric train data\n",
    "temp_X = X.copy()\n",
    "temp_X = exclude_non_numeric(temp_X)\n",
    "temp_train_name_vec50 = train_name_vec50.copy()\n",
    "temp_train_ingr_vec50 = train_ingr_vec50.copy()\n",
    "temp_train_steps_vec50 = train_steps_vec50.copy()\n",
    "X_combined_50: pd.DataFrame = combine_with_vec(temp_X, temp_train_name_vec50, temp_train_ingr_vec50, temp_train_steps_vec50)"
   ]
  },
  {
   "source": [
    "## Target"
   ],
   "cell_type": "markdown",
   "metadata": {}
  },
  {
   "cell_type": "code",
   "execution_count": null,
   "metadata": {},
   "outputs": [],
   "source": [
    "ax = sns.countplot(y, label=\"Count\")\n",
    "d1, d2, d3 = y.value_counts()\n",
    "print(\"Duration 1.0\", d1)\n",
    "print(\"Duration 2.0\", d2)\n",
    "print(\"Duration 3.0\", d3)"
   ]
  },
  {
   "cell_type": "code",
   "execution_count": null,
   "metadata": {},
   "outputs": [],
   "source": [
    "data = pd.concat([y, exclude_non_numeric(X)], axis=1)\n",
    "data = pd.melt(data, id_vars=\"duration_label\", var_name=\"features\", value_name=\"value\")\n",
    "plt.figure(figsize=(10, 10))\n",
    "sns.boxplot(x=\"features\", y=\"value\", hue=\"duration_label\", data=data)"
   ]
  },
  {
   "cell_type": "code",
   "execution_count": null,
   "metadata": {},
   "outputs": [],
   "source": [
    "X_combined_50.corrwith(y).sort_values(key= lambda x: np.abs(x), ascending=False)[:20]"
   ]
  },
  {
   "source": [
    "# Feature analysis (Pre-Processing)\n",
    "## n_steps"
   ],
   "cell_type": "markdown",
   "metadata": {}
  },
  {
   "cell_type": "code",
   "execution_count": null,
   "metadata": {},
   "outputs": [],
   "source": [
    "sns.distplot(X[\"n_steps\"], fit=scipy.stats.norm)\n",
    "plt.ylabel(\"Frequency\")\n",
    "plt.title(\"Frequency histogram of n_steps\")"
   ]
  },
  {
   "cell_type": "code",
   "execution_count": null,
   "metadata": {},
   "outputs": [],
   "source": [
    "res = scipy.stats.probplot(X[\"n_steps\"], plot=plt)\n",
    "plt.title(\"Probability Plot of n_steps\")"
   ]
  },
  {
   "cell_type": "code",
   "execution_count": null,
   "metadata": {},
   "outputs": [],
   "source": [
    "sns.distplot(np.log1p(X[\"n_steps\"]), fit=scipy.stats.norm)\n",
    "plt.ylabel(\"Frequency\")\n",
    "plt.title(\"Frequency histogram of log(n_steps + 1)\")"
   ]
  },
  {
   "cell_type": "code",
   "execution_count": null,
   "metadata": {},
   "outputs": [],
   "source": [
    "res = scipy.stats.probplot(np.log1p(X[\"n_steps\"]), plot=plt)\n",
    "plt.title(\"Probability Plot of log(n_steps + 1)\")"
   ]
  },
  {
   "source": [
    "## n_ingredients"
   ],
   "cell_type": "markdown",
   "metadata": {}
  },
  {
   "cell_type": "code",
   "execution_count": null,
   "metadata": {},
   "outputs": [],
   "source": [
    "sns.distplot(X[\"n_ingredients\"], fit=scipy.stats.norm)\n",
    "plt.ylabel(\"Frequency\")\n",
    "plt.title(\"Frequency histogram of n_ingredients\")"
   ]
  },
  {
   "cell_type": "code",
   "execution_count": null,
   "metadata": {},
   "outputs": [],
   "source": [
    "res = scipy.stats.probplot(X[\"n_ingredients\"], plot=plt)\n",
    "plt.title(\"Probability Plot of n_ingredients\")"
   ]
  },
  {
   "cell_type": "code",
   "execution_count": null,
   "metadata": {},
   "outputs": [],
   "source": [
    "sns.distplot(np.log1p(X[\"n_ingredients\"]), fit=scipy.stats.norm)\n",
    "plt.ylabel(\"Frequency\")\n",
    "plt.title(\"Frequency histogram of log(n_ingredients + 1)\")"
   ]
  },
  {
   "cell_type": "code",
   "execution_count": null,
   "metadata": {},
   "outputs": [],
   "source": [
    "res = scipy.stats.probplot(np.log1p(X[\"n_ingredients\"]), plot=plt)\n",
    "plt.title(\"Probability Plot of log(n_ingredient + 1)\")"
   ]
  },
  {
   "source": [
    "## 50Vec2Doc"
   ],
   "cell_type": "markdown",
   "metadata": {}
  },
  {
   "cell_type": "code",
   "execution_count": null,
   "metadata": {},
   "outputs": [],
   "source": [
    "scaled_train_name_vec50 = StandardScaler().fit_transform(train_name_vec50)\n",
    "\n"
   ]
  },
  {
   "cell_type": "code",
   "execution_count": null,
   "metadata": {},
   "outputs": [],
   "source": [
    "sns.distplot(scaled_train_name_vec50[:, 0], fit=scipy.stats.norm)\n",
    "plt.ylabel(\"Frequency\")\n",
    "plt.title(\"Frequency histogram of log(n_ingredients + 1)\")"
   ]
  },
  {
   "cell_type": "code",
   "execution_count": null,
   "metadata": {},
   "outputs": [],
   "source": [
    "res = scipy.stats.probplot(scaled_train_name_vec50[:, 0], plot=plt)\n",
    "plt.title(\"Probability Plot of Doc2Vec feature 0\")"
   ]
  },
  {
   "cell_type": "code",
   "execution_count": null,
   "metadata": {},
   "outputs": [],
   "source": [
    "df = get_data(\"./COMP30027_2021_Project2_datasets/recipe_train.csv\")"
   ]
  },
  {
   "cell_type": "code",
   "execution_count": null,
   "metadata": {},
   "outputs": [],
   "source": [
    "sns.distplot(df[df[\"duration_label\"]==3.0][\"n_steps\"])\n",
    "print(df[df[\"duration_label\"]==3.0][\"n_steps\"].mean())"
   ]
  },
  {
   "cell_type": "code",
   "execution_count": null,
   "metadata": {},
   "outputs": [],
   "source": [
    "sns.distplot(df[df[\"duration_label\"]==2.0][\"n_steps\"])\n",
    "print(df[df[\"duration_label\"]==2.0][\"n_steps\"].mean())"
   ]
  },
  {
   "cell_type": "code",
   "execution_count": null,
   "metadata": {},
   "outputs": [],
   "source": [
    "sns.distplot(df[df[\"duration_label\"]==1.0][\"n_steps\"])\n",
    "print(df[df[\"duration_label\"]==1.0][\"n_steps\"].mean())"
   ]
  },
  {
   "cell_type": "code",
   "execution_count": null,
   "metadata": {},
   "outputs": [],
   "source": []
  }
 ]
}