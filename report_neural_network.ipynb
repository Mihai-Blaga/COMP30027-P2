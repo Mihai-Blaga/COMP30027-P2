{
 "metadata": {
  "language_info": {
   "codemirror_mode": {
    "name": "ipython",
    "version": 3
   },
   "file_extension": ".py",
   "mimetype": "text/x-python",
   "name": "python",
   "nbconvert_exporter": "python",
   "pygments_lexer": "ipython3",
   "version": "3.8.5"
  },
  "orig_nbformat": 2,
  "kernelspec": {
   "name": "python385jvsc74a57bd0db1e82c7aa95844e45fbbbbcd794a7c1e0efcba29fed4bfa108b76bffa77ce80",
   "display_name": "Python 3.8.5 64-bit ('3.8.5': pyenv)"
  }
 },
 "nbformat": 4,
 "nbformat_minor": 2,
 "cells": [
  {
   "cell_type": "code",
   "execution_count": 16,
   "metadata": {},
   "outputs": [],
   "source": [
    "from read_data import get_training, get_test, get_sparse\n",
    "from processing import exclude_non_numeric\n",
    "from utils import create_csv_output\n",
    "import numpy as np\n",
    "import pandas as pd\n",
    "import scipy\n",
    "import pickle\n",
    "from scipy.sparse import csr_matrix\n",
    "from sklearn.pipeline import make_pipeline\n",
    "from sklearn.preprocessing import StandardScaler, FunctionTransformer\n",
    "from sklearn.model_selection import train_test_split, cross_val_score, ShuffleSplit, StratifiedShuffleSplit\n",
    "import seaborn as sns\n",
    "import matplotlib.pyplot as plt\n",
    "from sklearn.metrics import confusion_matrix\n",
    "np.random.seed(30027)\n",
    "sns.set(rc={\"figure.facecolor\": \"white\"})"
   ]
  },
  {
   "cell_type": "code",
   "execution_count": 17,
   "metadata": {},
   "outputs": [],
   "source": [
    "from sklearn.neural_network import MLPClassifier\n",
    "from sklearn.feature_selection import SelectFromModel\n",
    "from sklearn.linear_model import Lasso"
   ]
  },
  {
   "source": [
    "## Train data"
   ],
   "cell_type": "markdown",
   "metadata": {}
  },
  {
   "cell_type": "code",
   "execution_count": 18,
   "metadata": {},
   "outputs": [],
   "source": [
    "train_X,train_y = get_training()\n",
    "train_X_numeric = csr_matrix(FunctionTransformer(np.log1p).fit_transform(exclude_non_numeric(train_X)))\n",
    "train_name, train_ingr, train_steps = get_sparse(data=\"train\")\n",
    "train_sparse = scipy.sparse.hstack((train_X_numeric, train_name, train_ingr, train_steps), format=\"csr\")"
   ]
  },
  {
   "cell_type": "code",
   "execution_count": 19,
   "metadata": {},
   "outputs": [],
   "source": [
    "# Change target from (1.0, 2.0, 3.0) -> (0, 1, 2)\n",
    "y = (train_y - 1).astype(int)\n",
    "X_train, X_test, y_train, y_test = train_test_split(train_sparse, y, test_size=0.2)"
   ]
  },
  {
   "source": [
    "## Test data"
   ],
   "cell_type": "markdown",
   "metadata": {}
  },
  {
   "cell_type": "code",
   "execution_count": 20,
   "metadata": {},
   "outputs": [],
   "source": [
    "test_X = get_test()\n",
    "test_X_numeric = csr_matrix(FunctionTransformer(np.log1p).fit_transform(exclude_non_numeric(test_X)))\n",
    "test_name, test_ingr, test_steps = get_sparse(data=\"test\")\n",
    "test_sparse = scipy.sparse.hstack((test_X_numeric, test_name, test_ingr, test_steps), format=\"csr\")"
   ]
  },
  {
   "source": [
    "## MLPClassifier"
   ],
   "cell_type": "markdown",
   "metadata": {}
  },
  {
   "cell_type": "code",
   "execution_count": 21,
   "metadata": {},
   "outputs": [],
   "source": [
    "MLP_pipeline = make_pipeline(\n",
    "    StandardScaler(with_mean=False),\n",
    "    SelectFromModel(Lasso(alpha=0.01)),\n",
    "    MLPClassifier()\n",
    ")"
   ]
  },
  {
   "cell_type": "code",
   "execution_count": 7,
   "metadata": {},
   "outputs": [],
   "source": [
    "%%time\n",
    "partial_MLP = MLP_pipeline.fit(X_train, y_train)\n",
    "pickle.dump(partial_MLP, open(\"report_models/partial/MLP.sav\", \"wb\"))\n",
    "# CPU times: user 16min 34s, sys: 3min 19s, total: 19min 53s\n",
    "# Wall time: 6min 29s"
   ]
  },
  {
   "cell_type": "code",
   "execution_count": null,
   "metadata": {},
   "outputs": [],
   "source": [
    "cross_val_score(partial_MLP, X_test, y_test, cv=StratifiedShuffleSplit(n_splits=5, test_size=0.2))\n",
    "# array([0.738125, 0.700625, 0.700625, 0.689375, 0.7125  ])"
   ]
  },
  {
   "source": [
    "### Analysis"
   ],
   "cell_type": "markdown",
   "metadata": {}
  },
  {
   "cell_type": "code",
   "execution_count": null,
   "metadata": {},
   "outputs": [],
   "source": [
    "partial_MLP[\"selectfrommodel\"].transform(X_train)"
   ]
  },
  {
   "cell_type": "code",
   "execution_count": null,
   "metadata": {},
   "outputs": [],
   "source": [
    "MLP_score = partial_MLP.score(X_test, y_test)\n",
    "MLP_pred = partial_MLP.predict(X_test)\n",
    "MLP_cm = confusion_matrix(y_test, MLP_pred, normalize='true')"
   ]
  },
  {
   "cell_type": "code",
   "execution_count": null,
   "metadata": {},
   "outputs": [],
   "source": [
    "plt.figure(figsize=(5, 5))\n",
    "sns.heatmap(MLP_cm, annot=True, square=True, xticklabels=[1.0, 2.0, 3.0], yticklabels=[1.0, 2.0, 3.0], cmap=\"Blues_r\")\n",
    "plt.ylabel('Actual label')\n",
    "plt.xlabel('Predicted label' + '\\n\\nAccuracy Score: {0}'.format(MLP_score))\n",
    "plt.title('MLPClassifier Confusion Matrix', size=12)\n",
    "plt.savefig(\"report_pics/NeuralNetwork/MLP_cm.png\")"
   ]
  },
  {
   "source": [
    "### Submission model"
   ],
   "cell_type": "markdown",
   "metadata": {}
  },
  {
   "cell_type": "code",
   "execution_count": 23,
   "metadata": {},
   "outputs": [
    {
     "output_type": "stream",
     "name": "stdout",
     "text": [
      "CPU times: user 5min 32s, sys: 1min 47s, total: 7min 19s\n",
      "Wall time: 1min 50s\n",
      "/Users/mcken/.anyenv/envs/pyenv/versions/3.8.5/lib/python3.8/site-packages/sklearn/neural_network/_multilayer_perceptron.py:582: ConvergenceWarning: Stochastic Optimizer: Maximum iterations (200) reached and the optimization hasn't converged yet.\n",
      "  warnings.warn(\n"
     ]
    }
   ],
   "source": [
    "%%time\n",
    "MLP = MLP_pipeline.fit(train_sparse, y)\n",
    "pickle.dump(MLP, open(\"report_models/submission/MLP.sav\", \"wb\"))\n"
   ]
  },
  {
   "cell_type": "code",
   "execution_count": 24,
   "metadata": {},
   "outputs": [],
   "source": [
    "create_csv_output(\"report_submission/MLP\", (MLP.predict(test_sparse) + 1).astype(float))"
   ]
  },
  {
   "cell_type": "code",
   "execution_count": null,
   "metadata": {},
   "outputs": [],
   "source": []
  }
 ]
}