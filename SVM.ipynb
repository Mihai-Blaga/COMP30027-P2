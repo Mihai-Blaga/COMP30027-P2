{
 "metadata": {
  "language_info": {
   "codemirror_mode": {
    "name": "ipython",
    "version": 3
   },
   "file_extension": ".py",
   "mimetype": "text/x-python",
   "name": "python",
   "nbconvert_exporter": "python",
   "pygments_lexer": "ipython3",
   "version": "3.8.5"
  },
  "orig_nbformat": 2,
  "kernelspec": {
   "name": "python385jvsc74a57bd0db1e82c7aa95844e45fbbbbcd794a7c1e0efcba29fed4bfa108b76bffa77ce80",
   "display_name": "Python 3.8.5 64-bit ('3.8.5': pyenv)"
  }
 },
 "nbformat": 4,
 "nbformat_minor": 2,
 "cells": [
  {
   "cell_type": "code",
   "execution_count": 1,
   "metadata": {},
   "outputs": [],
   "source": [
    "from read_data import get_training, get_Doc2Vec\n",
    "from processing import combine_with_vec, exclude_non_numeric\n",
    "from sklearn.svm import SVC, LinearSVC\n",
    "import pandas as pd\n",
    "import numpy as np\n",
    "from sklearn.pipeline import make_pipeline\n",
    "from sklearn.preprocessing import StandardScaler, FunctionTransformer\n",
    "from sklearn.model_selection import train_test_split\n",
    "from sklearn.compose import make_column_transformer\n",
    "import pickle\n",
    "\n",
    "np.random.seed(30027)"
   ]
  },
  {
   "cell_type": "code",
   "execution_count": 2,
   "metadata": {},
   "outputs": [],
   "source": [
    "# Training data\n",
    "X, y = get_training()\n",
    "train_name_vec50, train_ingr_vec50, train_steps_vec50 = get_Doc2Vec(data=\"train\", num_features=50)\n",
    "train_name_vec100, train_ingr_vec100, train_steps_vec100 = get_Doc2Vec(data=\"train\", num_features=100)"
   ]
  },
  {
   "source": [
    "# SVM pipelines\n",
    "difference in models: \n",
    "https://stackoverflow.com/questions/27912872/what-is-the-difference-between-svc-and-svm-in-scikit-learn"
   ],
   "cell_type": "markdown",
   "metadata": {}
  },
  {
   "cell_type": "code",
   "execution_count": 3,
   "metadata": {},
   "outputs": [],
   "source": [
    "SVC_RBF_pipeline = make_pipeline(\n",
    "    make_column_transformer((FunctionTransformer(np.log1p), [\"n_ingredients\", \"n_steps\"]), remainder='passthrough'),\n",
    "    StandardScaler(),\n",
    "    SVC(kernel='rbf', gamma='auto', C=1.0)\n",
    ")"
   ]
  },
  {
   "cell_type": "code",
   "execution_count": 4,
   "metadata": {},
   "outputs": [],
   "source": [
    "# LinearSVC\n",
    "LinearSVC_pipeline = make_pipeline(\n",
    "    make_column_transformer((FunctionTransformer(np.log1p), [\"n_ingredients\", \"n_steps\"]), remainder='passthrough'),\n",
    "    StandardScaler(),\n",
    "    LinearSVC(C=1.0, max_iter=10000)\n",
    ")"
   ]
  },
  {
   "source": [
    "### Doc2Vec preparation"
   ],
   "cell_type": "markdown",
   "metadata": {}
  },
  {
   "cell_type": "code",
   "execution_count": 5,
   "metadata": {},
   "outputs": [],
   "source": [
    "# Combine Doc2Vec with 50 features and non-numeric train data\n",
    "temp_X = X.copy()\n",
    "temp_X = exclude_non_numeric(temp_X)\n",
    "temp_train_name_vec50 = train_name_vec50.copy()\n",
    "temp_train_ingr_vec50 = train_ingr_vec50.copy()\n",
    "temp_train_steps_vec50 = train_steps_vec50.copy()\n",
    "X_combined_50: pd.DataFrame = combine_with_vec(temp_X, temp_train_name_vec50, temp_train_ingr_vec50, temp_train_steps_vec50)"
   ]
  },
  {
   "cell_type": "code",
   "execution_count": 6,
   "metadata": {},
   "outputs": [],
   "source": [
    "X_train_50, X_test_50, y_train_50, y_test_50 = train_test_split(X_combined_50, y, test_size=0.2)"
   ]
  },
  {
   "cell_type": "code",
   "execution_count": 7,
   "metadata": {},
   "outputs": [],
   "source": [
    "# Combine Doc2Vec with 50 features and non-numeric train data\n",
    "temp_X = X.copy()\n",
    "temp_X = exclude_non_numeric(temp_X)\n",
    "temp_train_name_vec100 = train_name_vec100.copy()\n",
    "temp_train_ingr_vec100 = train_ingr_vec100.copy()\n",
    "temp_train_steps_vec100 = train_steps_vec100.copy()\n",
    "X_combined_100: pd.DataFrame = combine_with_vec(temp_X, temp_train_name_vec100, temp_train_ingr_vec100, temp_train_steps_vec100)"
   ]
  },
  {
   "cell_type": "code",
   "execution_count": 23,
   "metadata": {},
   "outputs": [],
   "source": [
    "X_train_100, X_test_100, y_train_100, y_test_100 = train_test_split(X_combined_100, y, test_size=0.2)"
   ]
  },
  {
   "source": [
    "## SVM with RBF kernel and Doc2Vec with 50 features\n",
    "Warning: takes 5min to run below code"
   ],
   "cell_type": "markdown",
   "metadata": {}
  },
  {
   "cell_type": "code",
   "execution_count": 9,
   "metadata": {},
   "outputs": [
    {
     "output_type": "stream",
     "name": "stdout",
     "text": [
      "CPU times: user 6min 51s, sys: 5.17 s, total: 6min 56s\nWall time: 7min 1s\n"
     ]
    }
   ],
   "source": [
    "%%time\n",
    "partial_SVC_RBF_50Doc2Vec_model = SVC_RBF_pipeline.fit(X_train_50, y_train_50)"
   ]
  },
  {
   "source": [
    "Above model training time\n",
    "- CPU times: user 4min 32s, sys: 4.57 s, total: 4min 37s\n",
    "- Wall time: 4min 49s"
   ],
   "cell_type": "markdown",
   "metadata": {}
  },
  {
   "cell_type": "code",
   "execution_count": 10,
   "metadata": {},
   "outputs": [
    {
     "output_type": "execute_result",
     "data": {
      "text/plain": [
       "0.744875"
      ]
     },
     "metadata": {},
     "execution_count": 10
    }
   ],
   "source": [
    "# Score\n",
    "partial_SVC_RBF_50Doc2Vec_model.score(X_test_50, y_test_50)\n",
    "# -> 0.7095"
   ]
  },
  {
   "source": [
    "### Model with all train data\n",
    "Warning: Takes long time!!!!!"
   ],
   "cell_type": "markdown",
   "metadata": {}
  },
  {
   "cell_type": "code",
   "execution_count": 11,
   "metadata": {},
   "outputs": [
    {
     "output_type": "stream",
     "name": "stdout",
     "text": [
      "CPU times: user 11min 34s, sys: 6.7 s, total: 11min 41s\nWall time: 11min 48s\n"
     ]
    }
   ],
   "source": [
    "%%time\n",
    "SVC_RBF_50Doc2Vec_model = SVC_RBF_pipeline.fit(X_combined_50, y)"
   ]
  },
  {
   "source": [
    "Above model training time\n",
    "- CPU times: user 6min 57s, sys: 6.75 s, total: 7min 3s\n",
    "- Wall time: 7min 19s"
   ],
   "cell_type": "markdown",
   "metadata": {}
  },
  {
   "cell_type": "code",
   "execution_count": 12,
   "metadata": {},
   "outputs": [],
   "source": [
    "# save model\n",
    "pickle.dump(SVC_RBF_50Doc2Vec_model, open(\"models/SVC-RBF-50Doc2Vec.sav\", \"wb\"))"
   ]
  },
  {
   "source": [
    "## SVM with RBF kernel and Doc2Vec with 100 features"
   ],
   "cell_type": "markdown",
   "metadata": {}
  },
  {
   "source": [
    "Warning: below code take loooong time to excute!!!"
   ],
   "cell_type": "markdown",
   "metadata": {}
  },
  {
   "cell_type": "code",
   "execution_count": 13,
   "metadata": {},
   "outputs": [
    {
     "output_type": "stream",
     "name": "stdout",
     "text": [
      "CPU times: user 14min 5s, sys: 7.83 s, total: 14min 12s\nWall time: 18min 27s\n"
     ]
    }
   ],
   "source": [
    "%%time\n",
    "partial_SVC_RBF_100Doc2Vec_model = SVC_RBF_pipeline.fit(X_train_100, y_train_100)"
   ]
  },
  {
   "source": [
    "Above model training time\n",
    "- CPU times: user 8min 42s, sys: 9.23 s, total: 8min 51s\n",
    "- Wall time: 9min 15s"
   ],
   "cell_type": "markdown",
   "metadata": {}
  },
  {
   "cell_type": "code",
   "execution_count": 14,
   "metadata": {},
   "outputs": [
    {
     "output_type": "execute_result",
     "data": {
      "text/plain": [
       "0.737125"
      ]
     },
     "metadata": {},
     "execution_count": 14
    }
   ],
   "source": [
    "# Score\n",
    "partial_SVC_RBF_100Doc2Vec_model.score(X_test_100, y_test_100)\n",
    "# -> 0.707375 Score decreased lol"
   ]
  },
  {
   "source": [
    "### Model with all train data\n",
    "Warning: take very loooooong time!!!!"
   ],
   "cell_type": "markdown",
   "metadata": {}
  },
  {
   "cell_type": "code",
   "execution_count": 15,
   "metadata": {},
   "outputs": [
    {
     "output_type": "stream",
     "name": "stdout",
     "text": [
      "CPU times: user 23min 15s, sys: 15.1 s, total: 23min 30s\nWall time: 23min 47s\n"
     ]
    }
   ],
   "source": [
    "%%time\n",
    "SVC_RBF_100Doc2Vec_model = SVC_RBF_pipeline.fit(X_combined_100, y)"
   ]
  },
  {
   "cell_type": "code",
   "execution_count": 16,
   "metadata": {},
   "outputs": [],
   "source": [
    "# save model\n",
    "pickle.dump(SVC_RBF_100Doc2Vec_model, open(\"models/SVC-RBF-100Doc2Vec.sav\", \"wb\"))"
   ]
  },
  {
   "source": [
    "## LinearSVC with 50 features Doc2Vec "
   ],
   "cell_type": "markdown",
   "metadata": {}
  },
  {
   "cell_type": "code",
   "execution_count": 17,
   "metadata": {},
   "outputs": [
    {
     "output_type": "stream",
     "name": "stdout",
     "text": [
      "CPU times: user 9min 4s, sys: 6.6 s, total: 9min 11s\n",
      "Wall time: 9min 19s\n",
      "/Users/mcken/.anyenv/envs/pyenv/versions/3.8.5/lib/python3.8/site-packages/sklearn/svm/_base.py:976: ConvergenceWarning: Liblinear failed to converge, increase the number of iterations.\n",
      "  warnings.warn(\"Liblinear failed to converge, increase \"\n"
     ]
    }
   ],
   "source": [
    "%%time\n",
    "partial_LinearSVC_50Doc2Vec_model = LinearSVC_pipeline.fit(X_train_50, y_train_50)"
   ]
  },
  {
   "source": [
    "Above had convergence warning \n",
    "CPU times: user 9min 4s, sys: 6.6 s, total: 9min 11s\n",
    "Wall time: 9min 19s\n",
    "/Users/mcken/.anyenv/envs/pyenv/versions/3.8.5/lib/python3.8/site-packages/sklearn/svm/_base.py:976: ConvergenceWarning: Liblinear failed to converge, increase the number of iterations.\n",
    "  warnings.warn(\"Liblinear failed to converge, increase \""
   ],
   "cell_type": "markdown",
   "metadata": {}
  },
  {
   "cell_type": "code",
   "execution_count": 18,
   "metadata": {},
   "outputs": [
    {
     "output_type": "execute_result",
     "data": {
      "text/plain": [
       "0.718375"
      ]
     },
     "metadata": {},
     "execution_count": 18
    }
   ],
   "source": [
    "partial_LinearSVC_50Doc2Vec_model.score(X_test_50, y_test_50)\n",
    "# -> 0.7205"
   ]
  },
  {
   "cell_type": "code",
   "execution_count": 22,
   "metadata": {},
   "outputs": [
    {
     "output_type": "stream",
     "name": "stdout",
     "text": [
      "CPU times: user 11min 55s, sys: 7.39 s, total: 12min 3s\n",
      "Wall time: 13min 36s\n",
      "/Users/mcken/.anyenv/envs/pyenv/versions/3.8.5/lib/python3.8/site-packages/sklearn/svm/_base.py:976: ConvergenceWarning: Liblinear failed to converge, increase the number of iterations.\n",
      "  warnings.warn(\"Liblinear failed to converge, increase \"\n"
     ]
    }
   ],
   "source": [
    "%%time\n",
    "LinearSVC_50Doc2Vec_model = LinearSVC_pipeline.fit(X_combined_50, y)"
   ]
  },
  {
   "source": [
    "Also fail to converge"
   ],
   "cell_type": "markdown",
   "metadata": {}
  },
  {
   "cell_type": "code",
   "execution_count": 24,
   "metadata": {},
   "outputs": [],
   "source": [
    "pickle.dump(LinearSVC_50Doc2Vec_model, open(\"models/LinearSVC_50Doc2Vec_model.sav\", \"wb\"))"
   ]
  },
  {
   "source": [
    "## LinearSVC with 100 features Doc2Vec"
   ],
   "cell_type": "markdown",
   "metadata": {}
  },
  {
   "source": [
    "Because 50 didnt coverge probably not good idea to implemnent 100 without any feature selection"
   ],
   "cell_type": "markdown",
   "metadata": {}
  }
 ]
}