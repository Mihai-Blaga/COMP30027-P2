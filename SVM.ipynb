{
 "metadata": {
  "language_info": {
   "codemirror_mode": {
    "name": "ipython",
    "version": 3
   },
   "file_extension": ".py",
   "mimetype": "text/x-python",
   "name": "python",
   "nbconvert_exporter": "python",
   "pygments_lexer": "ipython3",
   "version": "3.8.5"
  },
  "orig_nbformat": 2,
  "kernelspec": {
   "name": "python385jvsc74a57bd0db1e82c7aa95844e45fbbbbcd794a7c1e0efcba29fed4bfa108b76bffa77ce80",
   "display_name": "Python 3.8.5 64-bit ('3.8.5': pyenv)"
  }
 },
 "nbformat": 4,
 "nbformat_minor": 2,
 "cells": [
  {
   "cell_type": "code",
   "execution_count": 20,
   "metadata": {},
   "outputs": [],
   "source": [
    "from read_data import get_training, get_test, get_Doc2Vec, get_data\n",
    "from processing import combine_with_vec, exclude_non_numeric\n",
    "from sklearn.svm import SVC, LinearSVC\n",
    "import pandas as pd\n",
    "import numpy as np\n",
    "from sklearn.pipeline import Pipeline\n",
    "from sklearn.preprocessing import MinMaxScaler, FunctionTransformer\n",
    "from sklearn.model_selection import train_test_split\n",
    "import pickle"
   ]
  },
  {
   "cell_type": "code",
   "execution_count": 21,
   "metadata": {},
   "outputs": [],
   "source": [
    "# Training data\n",
    "X, y = get_training()\n",
    "train_name_vec50, train_ingr_vec50, train_steps_vec50 = get_Doc2Vec(data=\"train\", num_features=50)\n",
    "train_name_vec100, train_ingr_vec100, train_steps_vec100 = get_Doc2Vec(data=\"train\", num_features=100)"
   ]
  },
  {
   "source": [
    "# SVM pipelines\n",
    "difference in models: \n",
    "https://stackoverflow.com/questions/27912872/what-is-the-difference-between-svc-and-svm-in-scikit-learn"
   ],
   "cell_type": "markdown",
   "metadata": {}
  },
  {
   "cell_type": "code",
   "execution_count": 22,
   "metadata": {},
   "outputs": [],
   "source": [
    "# SVC with BRF kernel\n",
    "steps = [('MinMaxScaler', MinMaxScaler()), ('LogTransformer', FunctionTransformer(np.log1p)), ('SVC-RBF', SVC(kernel='rbf', gamma='auto', C=1.0, random_state=30027))]\n",
    "SVC_RBF_Doc2Vec_pipeline = Pipeline(steps=steps)"
   ]
  },
  {
   "cell_type": "code",
   "execution_count": 23,
   "metadata": {},
   "outputs": [],
   "source": [
    "# LinearSVC\n",
    "steps_linear = [('MinMaxScaler', MinMaxScaler()), ('LogTransformer', FunctionTransformer(np.log1p)), ('LinearSVC', LinearSVC(C=1.0, max_iter=10000))]\n",
    "LinearSVC_Doc2Vec_pipeline = Pipeline(steps=steps_linear)"
   ]
  },
  {
   "source": [
    "### Doc2Vec preparation"
   ],
   "cell_type": "markdown",
   "metadata": {}
  },
  {
   "cell_type": "code",
   "execution_count": 24,
   "metadata": {},
   "outputs": [],
   "source": [
    "# Combine Doc2Vec with 50 features and non-numeric train data\n",
    "temp_X = X.copy()\n",
    "temp_X = exclude_non_numeric(temp_X)\n",
    "temp_train_name_vec50 = train_name_vec50.copy()\n",
    "temp_train_ingr_vec50 = train_ingr_vec50.copy()\n",
    "temp_train_steps_vec50 = train_steps_vec50.copy()\n",
    "X_combined_50: pd.DataFrame = combine_with_vec(temp_X, temp_train_name_vec50, temp_train_ingr_vec50, temp_train_steps_vec50)"
   ]
  },
  {
   "cell_type": "code",
   "execution_count": 25,
   "metadata": {},
   "outputs": [],
   "source": [
    "X_train_50, X_test_50, y_train_50, y_test_50 = train_test_split(X_combined_50, y, test_size=0.2, random_state=30027)"
   ]
  },
  {
   "cell_type": "code",
   "execution_count": 26,
   "metadata": {},
   "outputs": [],
   "source": [
    "# Combine Doc2Vec with 50 features and non-numeric train data\n",
    "temp_X = X.copy()\n",
    "temp_X = exclude_non_numeric(temp_X)\n",
    "temp_train_name_vec100 = train_name_vec100.copy()\n",
    "temp_train_ingr_vec100 = train_ingr_vec100.copy()\n",
    "temp_train_steps_vec100 = train_steps_vec100.copy()\n",
    "X_combined_100: pd.DataFrame = combine_with_vec(temp_X, temp_train_name_vec100, temp_train_ingr_vec100, temp_train_steps_vec100)"
   ]
  },
  {
   "cell_type": "code",
   "execution_count": 27,
   "metadata": {},
   "outputs": [],
   "source": [
    "X_train_100, X_test_100, y_train_100, y_test_100 = train_test_split(X_combined_100, y, test_size=0.2, random_state=30027)"
   ]
  },
  {
   "source": [
    "## SVM with RBF kernel and Doc2Vec with 50 features\n",
    "Warning: takes 5min to run below code"
   ],
   "cell_type": "markdown",
   "metadata": {}
  },
  {
   "cell_type": "code",
   "execution_count": null,
   "metadata": {},
   "outputs": [],
   "source": [
    "%%time\n",
    "partial_SVC_RBF_50Doc2Vec_model = SVC_RBF_Doc2Vec_pipeline.fit(X_train_50, y_train_50)"
   ]
  },
  {
   "source": [
    "Above model training time\n",
    "- CPU times: user 4min 32s, sys: 4.57 s, total: 4min 37s\n",
    "- Wall time: 4min 49s"
   ],
   "cell_type": "markdown",
   "metadata": {}
  },
  {
   "cell_type": "code",
   "execution_count": null,
   "metadata": {},
   "outputs": [],
   "source": [
    "# Score\n",
    "partial_SVC_RBF_50Doc2Vec_model.score(X_test_50, y_test_50)\n",
    "# -> 0.7095"
   ]
  },
  {
   "source": [
    "### Model with all train data\n",
    "Warning: Takes long time!!!!!"
   ],
   "cell_type": "markdown",
   "metadata": {}
  },
  {
   "cell_type": "code",
   "execution_count": null,
   "metadata": {},
   "outputs": [],
   "source": [
    "%%time\n",
    "SVC_RBF_50Doc2Vec_model = SVC_RBF_Doc2Vec_pipeline.fit(X_combined_50, y)"
   ]
  },
  {
   "source": [
    "Above model training time\n",
    "- CPU times: user 6min 57s, sys: 6.75 s, total: 7min 3s\n",
    "- Wall time: 7min 19s"
   ],
   "cell_type": "markdown",
   "metadata": {}
  },
  {
   "cell_type": "code",
   "execution_count": null,
   "metadata": {},
   "outputs": [],
   "source": [
    "# save model\n",
    "pickle.dump(SVC_RBF_50Doc2Vec_model, open(\"models/SVC-RBF-50Doc2Vec.sav\", \"wb\"))"
   ]
  },
  {
   "source": [
    "## SVM with RBF kernel and Doc2Vec with 100 features"
   ],
   "cell_type": "markdown",
   "metadata": {}
  },
  {
   "source": [
    "Warning: below code take loooong time to excute!!!"
   ],
   "cell_type": "markdown",
   "metadata": {}
  },
  {
   "cell_type": "code",
   "execution_count": 13,
   "metadata": {},
   "outputs": [
    {
     "output_type": "stream",
     "name": "stdout",
     "text": [
      "CPU times: user 9min 4s, sys: 13.9 s, total: 9min 18s\nWall time: 10min 1s\n"
     ]
    }
   ],
   "source": [
    "%%time\n",
    "partial_SVC_RBF_100Doc2Vec_model = SVC_RBF_Doc2Vec_pipeline.fit(X_train_100, y_train_100)"
   ]
  },
  {
   "source": [
    "Above model training time\n",
    "- CPU times: user 8min 42s, sys: 9.23 s, total: 8min 51s\n",
    "- Wall time: 9min 15s"
   ],
   "cell_type": "markdown",
   "metadata": {}
  },
  {
   "cell_type": "code",
   "execution_count": 15,
   "metadata": {},
   "outputs": [
    {
     "output_type": "execute_result",
     "data": {
      "text/plain": [
       "0.707375"
      ]
     },
     "metadata": {},
     "execution_count": 15
    }
   ],
   "source": [
    "# Score\n",
    "partial_SVC_RBF_100Doc2Vec_model.score(X_test_100, y_test_100)\n",
    "# -> 0.707375 Score decreased lol"
   ]
  },
  {
   "source": [
    "### Model with all train data\n",
    "Warning: take very loooooong time!!!!"
   ],
   "cell_type": "markdown",
   "metadata": {}
  },
  {
   "cell_type": "code",
   "execution_count": 16,
   "metadata": {},
   "outputs": [
    {
     "output_type": "stream",
     "name": "stdout",
     "text": [
      "CPU times: user 13min 48s, sys: 18.5 s, total: 14min 6s\nWall time: 15min 8s\n"
     ]
    }
   ],
   "source": [
    "%%time\n",
    "SVC_RBF_100Doc2Vec_model = SVC_RBF_Doc2Vec_pipeline.fit(X_combined_100, y)"
   ]
  },
  {
   "cell_type": "code",
   "execution_count": 17,
   "metadata": {},
   "outputs": [],
   "source": [
    "# save model\n",
    "pickle.dump(SVC_RBF_100Doc2Vec_model, open(\"models/SVC-RBF-100Doc2Vec.sav\", \"wb\"))"
   ]
  },
  {
   "source": [
    "## LinearSVC with 50 features Doc2Vec "
   ],
   "cell_type": "markdown",
   "metadata": {}
  },
  {
   "cell_type": "code",
   "execution_count": 29,
   "metadata": {},
   "outputs": [
    {
     "output_type": "stream",
     "name": "stdout",
     "text": [
      "CPU times: user 51.9 s, sys: 1.82 s, total: 53.8 s\nWall time: 1min 1s\n"
     ]
    }
   ],
   "source": [
    "%%time\n",
    "partial_LinearSVC_50Doc2Vec_model = LinearSVC_Doc2Vec_pipeline.fit(X_train_50, y_train_50)"
   ]
  },
  {
   "cell_type": "code",
   "execution_count": 30,
   "metadata": {},
   "outputs": [
    {
     "output_type": "execute_result",
     "data": {
      "text/plain": [
       "0.7205"
      ]
     },
     "metadata": {},
     "execution_count": 30
    }
   ],
   "source": [
    "partial_LinearSVC_50Doc2Vec_model.score(X_test_50, y_test_50)\n",
    "# -> 0.7205"
   ]
  },
  {
   "cell_type": "code",
   "execution_count": 31,
   "metadata": {},
   "outputs": [
    {
     "output_type": "stream",
     "name": "stdout",
     "text": [
      "CPU times: user 1min 1s, sys: 1.75 s, total: 1min 2s\nWall time: 1min 9s\n"
     ]
    }
   ],
   "source": [
    "%%time\n",
    "LinearSVC_50Doc2Vec_model = LinearSVC_Doc2Vec_pipeline.fit(X_combined_50, y)"
   ]
  },
  {
   "cell_type": "code",
   "execution_count": 32,
   "metadata": {},
   "outputs": [],
   "source": [
    "pickle.dump(LinearSVC_50Doc2Vec_model, open(\"models/LinearSVC_50Doc2Vec_model.sav\", \"wb\"))"
   ]
  },
  {
   "cell_type": "code",
   "execution_count": null,
   "metadata": {},
   "outputs": [],
   "source": []
  }
 ]
}