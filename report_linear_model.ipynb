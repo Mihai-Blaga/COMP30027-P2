{
 "metadata": {
  "language_info": {
   "codemirror_mode": {
    "name": "ipython",
    "version": 3
   },
   "file_extension": ".py",
   "mimetype": "text/x-python",
   "name": "python",
   "nbconvert_exporter": "python",
   "pygments_lexer": "ipython3",
   "version": "3.8.5"
  },
  "orig_nbformat": 2,
  "kernelspec": {
   "name": "python385jvsc74a57bd0db1e82c7aa95844e45fbbbbcd794a7c1e0efcba29fed4bfa108b76bffa77ce80",
   "display_name": "Python 3.8.5 64-bit ('3.8.5': pyenv)"
  }
 },
 "nbformat": 4,
 "nbformat_minor": 2,
 "cells": [
  {
   "cell_type": "code",
   "execution_count": null,
   "metadata": {},
   "outputs": [],
   "source": [
    "from read_data import get_training, get_test, get_sparse\n",
    "from processing import exclude_non_numeric\n",
    "from utils import create_csv_output\n",
    "import numpy as np\n",
    "import pandas as pd\n",
    "import scipy\n",
    "import pickle\n",
    "from scipy.sparse import csr_matrix\n",
    "from sklearn.pipeline import make_pipeline\n",
    "from sklearn.preprocessing import FunctionTransformer\n",
    "from sklearn.model_selection import train_test_split, cross_val_score, ShuffleSplit, StratifiedShuffleSplit\n",
    "import seaborn as sns\n",
    "import matplotlib.pyplot as plt\n",
    "from sklearn.metrics import confusion_matrix\n",
    "np.random.seed(30027)\n",
    "sns.set(rc={\"figure.facecolor\": \"white\"})"
   ]
  },
  {
   "cell_type": "code",
   "execution_count": null,
   "metadata": {},
   "outputs": [],
   "source": [
    "from sklearn.linear_model import LogisticRegression, SGDClassifier"
   ]
  },
  {
   "source": [
    "## Train data"
   ],
   "cell_type": "markdown",
   "metadata": {}
  },
  {
   "cell_type": "code",
   "execution_count": null,
   "metadata": {},
   "outputs": [],
   "source": [
    "train_X,train_y = get_training()\n",
    "train_X_numeric = csr_matrix(FunctionTransformer(np.log1p).fit_transform(exclude_non_numeric(train_X)))\n",
    "train_name, train_ingr, train_steps = get_sparse(data=\"train\")\n",
    "train_sparse = scipy.sparse.hstack((train_X_numeric, train_name, train_ingr, train_steps), format=\"csr\")"
   ]
  },
  {
   "cell_type": "code",
   "execution_count": null,
   "metadata": {},
   "outputs": [],
   "source": [
    "# Change target from (1.0, 2.0, 3.0) -> (0, 1, 2)\n",
    "y = (train_y - 1).astype(int)\n",
    "X_train, X_test, y_train, y_test = train_test_split(train_sparse, y, test_size=0.2)"
   ]
  },
  {
   "source": [
    "## Test data"
   ],
   "cell_type": "markdown",
   "metadata": {}
  },
  {
   "cell_type": "code",
   "execution_count": null,
   "metadata": {},
   "outputs": [],
   "source": [
    "test_X = get_test()\n",
    "test_X_numeric = csr_matrix(FunctionTransformer(np.log1p).fit_transform(exclude_non_numeric(test_X)))\n",
    "test_name, test_ingr, test_steps = get_sparse(data=\"test\")\n",
    "test_sparse = scipy.sparse.hstack((test_X_numeric, test_name, test_ingr, test_steps), format=\"csr\")"
   ]
  },
  {
   "source": [
    "## Logistic Regression"
   ],
   "cell_type": "markdown",
   "metadata": {}
  },
  {
   "source": [
    "### Partial model"
   ],
   "cell_type": "markdown",
   "metadata": {}
  },
  {
   "cell_type": "code",
   "execution_count": null,
   "metadata": {},
   "outputs": [],
   "source": [
    "%%time\n",
    "partial_lr = LogisticRegression().fit(X_train, y_train)\n",
    "pickle.dump(partial_lr, open(\"report_models/partial/lr.sav\", \"wb\"))\n",
    "# CPU times: user 9.97 s, sys: 21.5 s, total: 31.5 s\n",
    "# Wall time: 7.27 "
   ]
  },
  {
   "cell_type": "code",
   "execution_count": null,
   "metadata": {},
   "outputs": [],
   "source": [
    "cross_val_score(partial_lr, X_test, y_test, cv=StratifiedShuffleSplit(n_splits=5, test_size=0.2))\n",
    "# array([0.7775, 0.7725, 0.7725, 0.76  , 0.7825])"
   ]
  },
  {
   "source": [
    "### Analysis"
   ],
   "cell_type": "markdown",
   "metadata": {}
  },
  {
   "cell_type": "code",
   "execution_count": null,
   "metadata": {},
   "outputs": [],
   "source": [
    "lr_score = partial_lr.score(X_test, y_test)\n",
    "lr_pred = partial_lr.predict(X_test)\n",
    "lr_cm = confusion_matrix(y_test, lr_pred, normalize='true')"
   ]
  },
  {
   "cell_type": "code",
   "execution_count": null,
   "metadata": {},
   "outputs": [],
   "source": [
    "plt.figure(figsize=(5, 5))\n",
    "sns.heatmap(lr_cm, annot=True, square=True, xticklabels=[1.0, 2.0, 3.0], yticklabels=[1.0, 2.0, 3.0], cmap=\"Blues_r\")\n",
    "plt.ylabel('Actual label')\n",
    "plt.xlabel('Predicted label' + '\\n\\nAccuracy Score: {0}'.format(lr_score))\n",
    "plt.title('LogisticRegressionClassifier Confusion Matrix', size=12)\n",
    "plt.savefig(\"report_pics/LinearModels/lr_cm.png\")"
   ]
  },
  {
   "source": [
    "### Submission model"
   ],
   "cell_type": "markdown",
   "metadata": {}
  },
  {
   "cell_type": "code",
   "execution_count": null,
   "metadata": {},
   "outputs": [],
   "source": [
    "%%time\n",
    "lr = LogisticRegression().fit(train_sparse, y)\n",
    "pickle.dump(lr, open(\"report_models/submission/lr.sav\", \"wb\"))\n",
    "# CPU times: user 12.9 s, sys: 27.9 s, total: 40.8 s\n",
    "# Wall time: 8.05 s"
   ]
  },
  {
   "cell_type": "code",
   "execution_count": null,
   "metadata": {},
   "outputs": [],
   "source": [
    "create_csv_output(\"report_submission/lr\", (lr.predict(test_sparse) + 1).astype(float))"
   ]
  },
  {
   "source": [
    "## SGDClassifier (Stochastic Gradient Decent)\n",
    "Good for large data(??)"
   ],
   "cell_type": "markdown",
   "metadata": {}
  },
  {
   "source": [
    "### Partila model"
   ],
   "cell_type": "markdown",
   "metadata": {}
  },
  {
   "cell_type": "code",
   "execution_count": null,
   "metadata": {},
   "outputs": [],
   "source": [
    "%%time\n",
    "partial_SGD = SGDClassifier().fit(X_train, y_train)\n",
    "pickle.dump(partial_SGD, open(\"report_models/partial/SGD.sav\", \"wb\"))\n",
    "# CPU times: user 2.74 s, sys: 609 ms, total: 3.35 s\n",
    "# Wall time: 2.27 s"
   ]
  },
  {
   "cell_type": "code",
   "execution_count": null,
   "metadata": {},
   "outputs": [],
   "source": [
    "cross_val_score(partial_SGD, X_test, y_test, cv=StratifiedShuffleSplit(n_splits=5, test_size=0.2))\n",
    "# array([0.685   , 0.679375, 0.710625, 0.67875 , 0.695625])"
   ]
  },
  {
   "source": [
    "### Analysis"
   ],
   "cell_type": "markdown",
   "metadata": {}
  },
  {
   "cell_type": "code",
   "execution_count": null,
   "metadata": {},
   "outputs": [],
   "source": [
    "SGD_score = partial_SGD.score(X_test, y_test)\n",
    "SGD_pred = partial_SGD.predict(X_test)\n",
    "SGD_cm = confusion_matrix(y_test, SGD_pred, normalize='true')"
   ]
  },
  {
   "cell_type": "code",
   "execution_count": null,
   "metadata": {},
   "outputs": [],
   "source": [
    "plt.figure(figsize=(5, 5))\n",
    "sns.heatmap(SGD_cm, annot=True, square=True, xticklabels=[1.0, 2.0, 3.0], yticklabels=[1.0, 2.0, 3.0], cmap=\"Blues_r\")\n",
    "plt.ylabel('Actual label')\n",
    "plt.xlabel('Predicted label' + '\\n\\nAccuracy Score: {0}'.format(SGD_score))\n",
    "plt.title('SGDClassifier Confusion Matrix', size=13)\n",
    "plt.savefig(\"report_pics/LinearModels/SGD_cm.png\")"
   ]
  },
  {
   "source": [
    "### Submission model"
   ],
   "cell_type": "markdown",
   "metadata": {}
  },
  {
   "cell_type": "code",
   "execution_count": null,
   "metadata": {},
   "outputs": [],
   "source": [
    "%%time\n",
    "SGD = SGDClassifier().fit(train_sparse, y)\n",
    "pickle.dump(SGD, open(\"report_models/submission/SGD.sav\", \"wb\"))\n",
    "# CPU times: user 12.9 s, sys: 27.9 s, total: 40.8 s\n",
    "# Wall time: 8.05 s"
   ]
  },
  {
   "cell_type": "code",
   "execution_count": null,
   "metadata": {},
   "outputs": [],
   "source": [
    "create_csv_output(\"report_submission/SGD\", (SGD.predict(test_sparse) + 1).astype(float))"
   ]
  },
  {
   "cell_type": "code",
   "execution_count": null,
   "metadata": {},
   "outputs": [],
   "source": []
  }
 ]
}